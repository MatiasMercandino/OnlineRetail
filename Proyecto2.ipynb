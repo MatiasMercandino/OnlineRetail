{
 "cells": [
  {
   "cell_type": "code",
   "execution_count": 1,
   "id": "31a3879b",
   "metadata": {},
   "outputs": [],
   "source": [
    "# Importar dataframe y visualizacion\n",
    "import pandas as pd\n",
    "import numpy as np\n",
    "import matplotlib.pyplot as plt\n",
    "import seaborn as sns\n",
    "from datetime import datetime, timedelta\n",
    "\n",
    "# Importar Modelos Regresion Lineal, Logistica, KNN, Random Forest, Árboles decisión, Kmeans\n",
    "from sklearn.model_selection import train_test_split\n",
    "from sklearn.preprocessing import StandardScaler\n",
    "from sklearn.metrics import recall_score\n",
    "from sklearn.linear_model import LinearRegression\n",
    "from sklearn.linear_model import LogisticRegression\n",
    "from sklearn.neighbors import KNeighborsClassifier\n",
    "from sklearn.ensemble import BaggingClassifier\n",
    "from sklearn.ensemble import RandomForestClassifier\n",
    "from sklearn.tree import DecisionTreeClassifier\n",
    "from sklearn.cluster import KMeans\n",
    "\n",
    "# Importar label \n",
    "from sklearn.preprocessing import LabelEncoder\n",
    "\n",
    "# Importar GridSearch para optimización \n",
    "from sklearn.model_selection import GridSearchCV\n",
    "\n",
    "# Importar Metricas\n",
    "from sklearn.metrics import classification_report\n",
    "from sklearn import metrics\n",
    "\n",
    "# Ignorar errores\n",
    "import warnings\n",
    "warnings.filterwarnings('ignore')"
   ]
  },
  {
   "cell_type": "code",
   "execution_count": 2,
   "id": "9fa21780",
   "metadata": {},
   "outputs": [
    {
     "data": {
      "text/html": [
       "<div>\n",
       "<style scoped>\n",
       "    .dataframe tbody tr th:only-of-type {\n",
       "        vertical-align: middle;\n",
       "    }\n",
       "\n",
       "    .dataframe tbody tr th {\n",
       "        vertical-align: top;\n",
       "    }\n",
       "\n",
       "    .dataframe thead th {\n",
       "        text-align: right;\n",
       "    }\n",
       "</style>\n",
       "<table border=\"1\" class=\"dataframe\">\n",
       "  <thead>\n",
       "    <tr style=\"text-align: right;\">\n",
       "      <th></th>\n",
       "      <th>InvoiceNo</th>\n",
       "      <th>StockCode</th>\n",
       "      <th>Description</th>\n",
       "      <th>Quantity</th>\n",
       "      <th>InvoiceDate</th>\n",
       "      <th>UnitPrice</th>\n",
       "      <th>CustomerID</th>\n",
       "      <th>Country</th>\n",
       "    </tr>\n",
       "  </thead>\n",
       "  <tbody>\n",
       "    <tr>\n",
       "      <th>0</th>\n",
       "      <td>536365</td>\n",
       "      <td>85123A</td>\n",
       "      <td>WHITE HANGING HEART T-LIGHT HOLDER</td>\n",
       "      <td>6</td>\n",
       "      <td>01-12-2010 08:26</td>\n",
       "      <td>2.55</td>\n",
       "      <td>17850.0</td>\n",
       "      <td>United Kingdom</td>\n",
       "    </tr>\n",
       "    <tr>\n",
       "      <th>1</th>\n",
       "      <td>536365</td>\n",
       "      <td>71053</td>\n",
       "      <td>WHITE METAL LANTERN</td>\n",
       "      <td>6</td>\n",
       "      <td>01-12-2010 08:26</td>\n",
       "      <td>3.39</td>\n",
       "      <td>17850.0</td>\n",
       "      <td>United Kingdom</td>\n",
       "    </tr>\n",
       "    <tr>\n",
       "      <th>2</th>\n",
       "      <td>536365</td>\n",
       "      <td>84406B</td>\n",
       "      <td>CREAM CUPID HEARTS COAT HANGER</td>\n",
       "      <td>8</td>\n",
       "      <td>01-12-2010 08:26</td>\n",
       "      <td>2.75</td>\n",
       "      <td>17850.0</td>\n",
       "      <td>United Kingdom</td>\n",
       "    </tr>\n",
       "    <tr>\n",
       "      <th>3</th>\n",
       "      <td>536365</td>\n",
       "      <td>84029G</td>\n",
       "      <td>KNITTED UNION FLAG HOT WATER BOTTLE</td>\n",
       "      <td>6</td>\n",
       "      <td>01-12-2010 08:26</td>\n",
       "      <td>3.39</td>\n",
       "      <td>17850.0</td>\n",
       "      <td>United Kingdom</td>\n",
       "    </tr>\n",
       "    <tr>\n",
       "      <th>4</th>\n",
       "      <td>536365</td>\n",
       "      <td>84029E</td>\n",
       "      <td>RED WOOLLY HOTTIE WHITE HEART.</td>\n",
       "      <td>6</td>\n",
       "      <td>01-12-2010 08:26</td>\n",
       "      <td>3.39</td>\n",
       "      <td>17850.0</td>\n",
       "      <td>United Kingdom</td>\n",
       "    </tr>\n",
       "  </tbody>\n",
       "</table>\n",
       "</div>"
      ],
      "text/plain": [
       "  InvoiceNo StockCode                          Description  Quantity  \\\n",
       "0    536365    85123A   WHITE HANGING HEART T-LIGHT HOLDER         6   \n",
       "1    536365     71053                  WHITE METAL LANTERN         6   \n",
       "2    536365    84406B       CREAM CUPID HEARTS COAT HANGER         8   \n",
       "3    536365    84029G  KNITTED UNION FLAG HOT WATER BOTTLE         6   \n",
       "4    536365    84029E       RED WOOLLY HOTTIE WHITE HEART.         6   \n",
       "\n",
       "        InvoiceDate  UnitPrice  CustomerID         Country  \n",
       "0  01-12-2010 08:26       2.55     17850.0  United Kingdom  \n",
       "1  01-12-2010 08:26       3.39     17850.0  United Kingdom  \n",
       "2  01-12-2010 08:26       2.75     17850.0  United Kingdom  \n",
       "3  01-12-2010 08:26       3.39     17850.0  United Kingdom  \n",
       "4  01-12-2010 08:26       3.39     17850.0  United Kingdom  "
      ]
     },
     "execution_count": 2,
     "metadata": {},
     "output_type": "execute_result"
    }
   ],
   "source": [
    "filename = \"OnlineRetail.csv\"\n",
    "df = pd.read_csv(filename,encoding='latin1')\n",
    "df.head()"
   ]
  },
  {
   "cell_type": "markdown",
   "id": "5fef2868",
   "metadata": {},
   "source": [
    "# Información y descripción de la data"
   ]
  },
  {
   "cell_type": "code",
   "execution_count": 3,
   "id": "4306b594",
   "metadata": {},
   "outputs": [
    {
     "name": "stdout",
     "output_type": "stream",
     "text": [
      "<class 'pandas.core.frame.DataFrame'>\n",
      "RangeIndex: 541909 entries, 0 to 541908\n",
      "Data columns (total 8 columns):\n",
      " #   Column       Non-Null Count   Dtype  \n",
      "---  ------       --------------   -----  \n",
      " 0   InvoiceNo    541909 non-null  object \n",
      " 1   StockCode    541909 non-null  object \n",
      " 2   Description  540455 non-null  object \n",
      " 3   Quantity     541909 non-null  int64  \n",
      " 4   InvoiceDate  541909 non-null  object \n",
      " 5   UnitPrice    541909 non-null  float64\n",
      " 6   CustomerID   406829 non-null  float64\n",
      " 7   Country      541909 non-null  object \n",
      "dtypes: float64(2), int64(1), object(5)\n",
      "memory usage: 33.1+ MB\n"
     ]
    }
   ],
   "source": [
    "df.info()"
   ]
  },
  {
   "cell_type": "code",
   "execution_count": 4,
   "id": "43f7973c",
   "metadata": {},
   "outputs": [
    {
     "data": {
      "text/html": [
       "<div>\n",
       "<style scoped>\n",
       "    .dataframe tbody tr th:only-of-type {\n",
       "        vertical-align: middle;\n",
       "    }\n",
       "\n",
       "    .dataframe tbody tr th {\n",
       "        vertical-align: top;\n",
       "    }\n",
       "\n",
       "    .dataframe thead th {\n",
       "        text-align: right;\n",
       "    }\n",
       "</style>\n",
       "<table border=\"1\" class=\"dataframe\">\n",
       "  <thead>\n",
       "    <tr style=\"text-align: right;\">\n",
       "      <th></th>\n",
       "      <th>Quantity</th>\n",
       "      <th>UnitPrice</th>\n",
       "      <th>CustomerID</th>\n",
       "    </tr>\n",
       "  </thead>\n",
       "  <tbody>\n",
       "    <tr>\n",
       "      <th>count</th>\n",
       "      <td>541909.000000</td>\n",
       "      <td>541909.000000</td>\n",
       "      <td>406829.000000</td>\n",
       "    </tr>\n",
       "    <tr>\n",
       "      <th>mean</th>\n",
       "      <td>9.552250</td>\n",
       "      <td>4.611114</td>\n",
       "      <td>15287.690570</td>\n",
       "    </tr>\n",
       "    <tr>\n",
       "      <th>std</th>\n",
       "      <td>218.081158</td>\n",
       "      <td>96.759853</td>\n",
       "      <td>1713.600303</td>\n",
       "    </tr>\n",
       "    <tr>\n",
       "      <th>min</th>\n",
       "      <td>-80995.000000</td>\n",
       "      <td>-11062.060000</td>\n",
       "      <td>12346.000000</td>\n",
       "    </tr>\n",
       "    <tr>\n",
       "      <th>25%</th>\n",
       "      <td>1.000000</td>\n",
       "      <td>1.250000</td>\n",
       "      <td>13953.000000</td>\n",
       "    </tr>\n",
       "    <tr>\n",
       "      <th>50%</th>\n",
       "      <td>3.000000</td>\n",
       "      <td>2.080000</td>\n",
       "      <td>15152.000000</td>\n",
       "    </tr>\n",
       "    <tr>\n",
       "      <th>75%</th>\n",
       "      <td>10.000000</td>\n",
       "      <td>4.130000</td>\n",
       "      <td>16791.000000</td>\n",
       "    </tr>\n",
       "    <tr>\n",
       "      <th>max</th>\n",
       "      <td>80995.000000</td>\n",
       "      <td>38970.000000</td>\n",
       "      <td>18287.000000</td>\n",
       "    </tr>\n",
       "  </tbody>\n",
       "</table>\n",
       "</div>"
      ],
      "text/plain": [
       "            Quantity      UnitPrice     CustomerID\n",
       "count  541909.000000  541909.000000  406829.000000\n",
       "mean        9.552250       4.611114   15287.690570\n",
       "std       218.081158      96.759853    1713.600303\n",
       "min    -80995.000000  -11062.060000   12346.000000\n",
       "25%         1.000000       1.250000   13953.000000\n",
       "50%         3.000000       2.080000   15152.000000\n",
       "75%        10.000000       4.130000   16791.000000\n",
       "max     80995.000000   38970.000000   18287.000000"
      ]
     },
     "execution_count": 4,
     "metadata": {},
     "output_type": "execute_result"
    }
   ],
   "source": [
    "df.describe()"
   ]
  },
  {
   "cell_type": "markdown",
   "id": "316420ca",
   "metadata": {},
   "source": [
    "# Limpiando datos"
   ]
  },
  {
   "cell_type": "markdown",
   "id": "03de8688",
   "metadata": {},
   "source": [
    "* Para los datos nulos de la columna **Descriptions** se cambiaran los valores nulos por la descripcion correspondiente al mismo **StockCode**, es decir, todos los StockCode = **85123A** deberán tener de descripción **WHITE HANGING HEART T-LIGHT HOLDER**\n",
    "\n",
    "\n",
    "* Para los datos nulos de la columna **CustomerID** se remplazaran los valores nulos por el promedio correspondiente al **InvoiceNo**, es decir, todos los InvoiceNo = **536365** deberán tener un CustomerID **17850.0** \n",
    "\n",
    "\n",
    "**- En caso de que no se puedan rellenar todo los datos utilizando esta forma, el resto de los datos se eliminar del dataframe.** \n",
    "\n",
    "**- Estos codigos pueden demorarse harto rato.**\n",
    "\n",
    "* Posterior a esto, se deben eliminar de la data todo los datos duplicados que existan. "
   ]
  },
  {
   "cell_type": "code",
   "execution_count": 5,
   "id": "79a56597",
   "metadata": {
    "scrolled": true
   },
   "outputs": [
    {
     "data": {
      "text/plain": [
       "InvoiceNo           0\n",
       "StockCode           0\n",
       "Description      1454\n",
       "Quantity            0\n",
       "InvoiceDate         0\n",
       "UnitPrice           0\n",
       "CustomerID     135080\n",
       "Country             0\n",
       "dtype: int64"
      ]
     },
     "execution_count": 5,
     "metadata": {},
     "output_type": "execute_result"
    }
   ],
   "source": [
    "df.isna().sum()"
   ]
  },
  {
   "cell_type": "code",
   "execution_count": 6,
   "id": "04ad5a64",
   "metadata": {
    "scrolled": true
   },
   "outputs": [
    {
     "data": {
      "text/plain": [
       "5268"
      ]
     },
     "execution_count": 6,
     "metadata": {},
     "output_type": "execute_result"
    }
   ],
   "source": [
    "df.duplicated().sum()"
   ]
  },
  {
   "cell_type": "code",
   "execution_count": 7,
   "id": "21bc83b7",
   "metadata": {},
   "outputs": [
    {
     "data": {
      "text/html": [
       "<div>\n",
       "<style scoped>\n",
       "    .dataframe tbody tr th:only-of-type {\n",
       "        vertical-align: middle;\n",
       "    }\n",
       "\n",
       "    .dataframe tbody tr th {\n",
       "        vertical-align: top;\n",
       "    }\n",
       "\n",
       "    .dataframe thead th {\n",
       "        text-align: right;\n",
       "    }\n",
       "</style>\n",
       "<table border=\"1\" class=\"dataframe\">\n",
       "  <thead>\n",
       "    <tr style=\"text-align: right;\">\n",
       "      <th></th>\n",
       "      <th>InvoiceNo</th>\n",
       "      <th>StockCode</th>\n",
       "      <th>Description</th>\n",
       "      <th>Quantity</th>\n",
       "      <th>InvoiceDate</th>\n",
       "      <th>UnitPrice</th>\n",
       "      <th>CustomerID</th>\n",
       "      <th>Country</th>\n",
       "    </tr>\n",
       "  </thead>\n",
       "  <tbody>\n",
       "    <tr>\n",
       "      <th>622</th>\n",
       "      <td>536414</td>\n",
       "      <td>22139</td>\n",
       "      <td>NaN</td>\n",
       "      <td>56</td>\n",
       "      <td>01-12-2010 11:52</td>\n",
       "      <td>0.00</td>\n",
       "      <td>NaN</td>\n",
       "      <td>United Kingdom</td>\n",
       "    </tr>\n",
       "    <tr>\n",
       "      <th>1443</th>\n",
       "      <td>536544</td>\n",
       "      <td>21773</td>\n",
       "      <td>DECORATIVE ROSE BATHROOM BOTTLE</td>\n",
       "      <td>1</td>\n",
       "      <td>01-12-2010 14:32</td>\n",
       "      <td>2.51</td>\n",
       "      <td>NaN</td>\n",
       "      <td>United Kingdom</td>\n",
       "    </tr>\n",
       "    <tr>\n",
       "      <th>1444</th>\n",
       "      <td>536544</td>\n",
       "      <td>21774</td>\n",
       "      <td>DECORATIVE CATS BATHROOM BOTTLE</td>\n",
       "      <td>2</td>\n",
       "      <td>01-12-2010 14:32</td>\n",
       "      <td>2.51</td>\n",
       "      <td>NaN</td>\n",
       "      <td>United Kingdom</td>\n",
       "    </tr>\n",
       "    <tr>\n",
       "      <th>1445</th>\n",
       "      <td>536544</td>\n",
       "      <td>21786</td>\n",
       "      <td>POLKADOT RAIN HAT</td>\n",
       "      <td>4</td>\n",
       "      <td>01-12-2010 14:32</td>\n",
       "      <td>0.85</td>\n",
       "      <td>NaN</td>\n",
       "      <td>United Kingdom</td>\n",
       "    </tr>\n",
       "    <tr>\n",
       "      <th>1446</th>\n",
       "      <td>536544</td>\n",
       "      <td>21787</td>\n",
       "      <td>RAIN PONCHO RETROSPOT</td>\n",
       "      <td>2</td>\n",
       "      <td>01-12-2010 14:32</td>\n",
       "      <td>1.66</td>\n",
       "      <td>NaN</td>\n",
       "      <td>United Kingdom</td>\n",
       "    </tr>\n",
       "    <tr>\n",
       "      <th>...</th>\n",
       "      <td>...</td>\n",
       "      <td>...</td>\n",
       "      <td>...</td>\n",
       "      <td>...</td>\n",
       "      <td>...</td>\n",
       "      <td>...</td>\n",
       "      <td>...</td>\n",
       "      <td>...</td>\n",
       "    </tr>\n",
       "    <tr>\n",
       "      <th>541536</th>\n",
       "      <td>581498</td>\n",
       "      <td>85099B</td>\n",
       "      <td>JUMBO BAG RED RETROSPOT</td>\n",
       "      <td>5</td>\n",
       "      <td>09-12-2011 10:26</td>\n",
       "      <td>4.13</td>\n",
       "      <td>NaN</td>\n",
       "      <td>United Kingdom</td>\n",
       "    </tr>\n",
       "    <tr>\n",
       "      <th>541537</th>\n",
       "      <td>581498</td>\n",
       "      <td>85099C</td>\n",
       "      <td>JUMBO  BAG BAROQUE BLACK WHITE</td>\n",
       "      <td>4</td>\n",
       "      <td>09-12-2011 10:26</td>\n",
       "      <td>4.13</td>\n",
       "      <td>NaN</td>\n",
       "      <td>United Kingdom</td>\n",
       "    </tr>\n",
       "    <tr>\n",
       "      <th>541538</th>\n",
       "      <td>581498</td>\n",
       "      <td>85150</td>\n",
       "      <td>LADIES &amp; GENTLEMEN METAL SIGN</td>\n",
       "      <td>1</td>\n",
       "      <td>09-12-2011 10:26</td>\n",
       "      <td>4.96</td>\n",
       "      <td>NaN</td>\n",
       "      <td>United Kingdom</td>\n",
       "    </tr>\n",
       "    <tr>\n",
       "      <th>541539</th>\n",
       "      <td>581498</td>\n",
       "      <td>85174</td>\n",
       "      <td>S/4 CACTI CANDLES</td>\n",
       "      <td>1</td>\n",
       "      <td>09-12-2011 10:26</td>\n",
       "      <td>10.79</td>\n",
       "      <td>NaN</td>\n",
       "      <td>United Kingdom</td>\n",
       "    </tr>\n",
       "    <tr>\n",
       "      <th>541540</th>\n",
       "      <td>581498</td>\n",
       "      <td>DOT</td>\n",
       "      <td>DOTCOM POSTAGE</td>\n",
       "      <td>1</td>\n",
       "      <td>09-12-2011 10:26</td>\n",
       "      <td>1714.17</td>\n",
       "      <td>NaN</td>\n",
       "      <td>United Kingdom</td>\n",
       "    </tr>\n",
       "  </tbody>\n",
       "</table>\n",
       "<p>135080 rows × 8 columns</p>\n",
       "</div>"
      ],
      "text/plain": [
       "       InvoiceNo StockCode                      Description  Quantity  \\\n",
       "622       536414     22139                              NaN        56   \n",
       "1443      536544     21773  DECORATIVE ROSE BATHROOM BOTTLE         1   \n",
       "1444      536544     21774  DECORATIVE CATS BATHROOM BOTTLE         2   \n",
       "1445      536544     21786               POLKADOT RAIN HAT          4   \n",
       "1446      536544     21787            RAIN PONCHO RETROSPOT         2   \n",
       "...          ...       ...                              ...       ...   \n",
       "541536    581498    85099B          JUMBO BAG RED RETROSPOT         5   \n",
       "541537    581498    85099C   JUMBO  BAG BAROQUE BLACK WHITE         4   \n",
       "541538    581498     85150    LADIES & GENTLEMEN METAL SIGN         1   \n",
       "541539    581498     85174                S/4 CACTI CANDLES         1   \n",
       "541540    581498       DOT                   DOTCOM POSTAGE         1   \n",
       "\n",
       "             InvoiceDate  UnitPrice  CustomerID         Country  \n",
       "622     01-12-2010 11:52       0.00         NaN  United Kingdom  \n",
       "1443    01-12-2010 14:32       2.51         NaN  United Kingdom  \n",
       "1444    01-12-2010 14:32       2.51         NaN  United Kingdom  \n",
       "1445    01-12-2010 14:32       0.85         NaN  United Kingdom  \n",
       "1446    01-12-2010 14:32       1.66         NaN  United Kingdom  \n",
       "...                  ...        ...         ...             ...  \n",
       "541536  09-12-2011 10:26       4.13         NaN  United Kingdom  \n",
       "541537  09-12-2011 10:26       4.13         NaN  United Kingdom  \n",
       "541538  09-12-2011 10:26       4.96         NaN  United Kingdom  \n",
       "541539  09-12-2011 10:26      10.79         NaN  United Kingdom  \n",
       "541540  09-12-2011 10:26    1714.17         NaN  United Kingdom  \n",
       "\n",
       "[135080 rows x 8 columns]"
      ]
     },
     "execution_count": 7,
     "metadata": {},
     "output_type": "execute_result"
    }
   ],
   "source": [
    "df[df['CustomerID'].isnull()]"
   ]
  },
  {
   "cell_type": "code",
   "execution_count": 8,
   "id": "ca82810c",
   "metadata": {},
   "outputs": [],
   "source": [
    "def Upgrade_Item_Identifier_mean(InvoiceNo):\n",
    "    Customer_ID_filter  = df['InvoiceNo'] == InvoiceNo\n",
    "    values_mean = df[Customer_ID_filter]['CustomerID'].mean()\n",
    "    return values_mean"
   ]
  },
  {
   "cell_type": "code",
   "execution_count": 9,
   "id": "b83a1af7",
   "metadata": {},
   "outputs": [],
   "source": [
    "Customer_ID_filter_isna = df['CustomerID'].isna()"
   ]
  },
  {
   "cell_type": "code",
   "execution_count": 10,
   "id": "62846eaf",
   "metadata": {},
   "outputs": [
    {
     "data": {
      "text/html": [
       "<div>\n",
       "<style scoped>\n",
       "    .dataframe tbody tr th:only-of-type {\n",
       "        vertical-align: middle;\n",
       "    }\n",
       "\n",
       "    .dataframe tbody tr th {\n",
       "        vertical-align: top;\n",
       "    }\n",
       "\n",
       "    .dataframe thead th {\n",
       "        text-align: right;\n",
       "    }\n",
       "</style>\n",
       "<table border=\"1\" class=\"dataframe\">\n",
       "  <thead>\n",
       "    <tr style=\"text-align: right;\">\n",
       "      <th></th>\n",
       "      <th>InvoiceNo</th>\n",
       "      <th>StockCode</th>\n",
       "      <th>Description</th>\n",
       "      <th>Quantity</th>\n",
       "      <th>InvoiceDate</th>\n",
       "      <th>UnitPrice</th>\n",
       "      <th>CustomerID</th>\n",
       "      <th>Country</th>\n",
       "    </tr>\n",
       "  </thead>\n",
       "  <tbody>\n",
       "    <tr>\n",
       "      <th>622</th>\n",
       "      <td>536414</td>\n",
       "      <td>22139</td>\n",
       "      <td>NaN</td>\n",
       "      <td>56</td>\n",
       "      <td>01-12-2010 11:52</td>\n",
       "      <td>0.00</td>\n",
       "      <td>NaN</td>\n",
       "      <td>United Kingdom</td>\n",
       "    </tr>\n",
       "    <tr>\n",
       "      <th>1443</th>\n",
       "      <td>536544</td>\n",
       "      <td>21773</td>\n",
       "      <td>DECORATIVE ROSE BATHROOM BOTTLE</td>\n",
       "      <td>1</td>\n",
       "      <td>01-12-2010 14:32</td>\n",
       "      <td>2.51</td>\n",
       "      <td>NaN</td>\n",
       "      <td>United Kingdom</td>\n",
       "    </tr>\n",
       "    <tr>\n",
       "      <th>1444</th>\n",
       "      <td>536544</td>\n",
       "      <td>21774</td>\n",
       "      <td>DECORATIVE CATS BATHROOM BOTTLE</td>\n",
       "      <td>2</td>\n",
       "      <td>01-12-2010 14:32</td>\n",
       "      <td>2.51</td>\n",
       "      <td>NaN</td>\n",
       "      <td>United Kingdom</td>\n",
       "    </tr>\n",
       "    <tr>\n",
       "      <th>1445</th>\n",
       "      <td>536544</td>\n",
       "      <td>21786</td>\n",
       "      <td>POLKADOT RAIN HAT</td>\n",
       "      <td>4</td>\n",
       "      <td>01-12-2010 14:32</td>\n",
       "      <td>0.85</td>\n",
       "      <td>NaN</td>\n",
       "      <td>United Kingdom</td>\n",
       "    </tr>\n",
       "    <tr>\n",
       "      <th>1446</th>\n",
       "      <td>536544</td>\n",
       "      <td>21787</td>\n",
       "      <td>RAIN PONCHO RETROSPOT</td>\n",
       "      <td>2</td>\n",
       "      <td>01-12-2010 14:32</td>\n",
       "      <td>1.66</td>\n",
       "      <td>NaN</td>\n",
       "      <td>United Kingdom</td>\n",
       "    </tr>\n",
       "    <tr>\n",
       "      <th>...</th>\n",
       "      <td>...</td>\n",
       "      <td>...</td>\n",
       "      <td>...</td>\n",
       "      <td>...</td>\n",
       "      <td>...</td>\n",
       "      <td>...</td>\n",
       "      <td>...</td>\n",
       "      <td>...</td>\n",
       "    </tr>\n",
       "    <tr>\n",
       "      <th>541536</th>\n",
       "      <td>581498</td>\n",
       "      <td>85099B</td>\n",
       "      <td>JUMBO BAG RED RETROSPOT</td>\n",
       "      <td>5</td>\n",
       "      <td>09-12-2011 10:26</td>\n",
       "      <td>4.13</td>\n",
       "      <td>NaN</td>\n",
       "      <td>United Kingdom</td>\n",
       "    </tr>\n",
       "    <tr>\n",
       "      <th>541537</th>\n",
       "      <td>581498</td>\n",
       "      <td>85099C</td>\n",
       "      <td>JUMBO  BAG BAROQUE BLACK WHITE</td>\n",
       "      <td>4</td>\n",
       "      <td>09-12-2011 10:26</td>\n",
       "      <td>4.13</td>\n",
       "      <td>NaN</td>\n",
       "      <td>United Kingdom</td>\n",
       "    </tr>\n",
       "    <tr>\n",
       "      <th>541538</th>\n",
       "      <td>581498</td>\n",
       "      <td>85150</td>\n",
       "      <td>LADIES &amp; GENTLEMEN METAL SIGN</td>\n",
       "      <td>1</td>\n",
       "      <td>09-12-2011 10:26</td>\n",
       "      <td>4.96</td>\n",
       "      <td>NaN</td>\n",
       "      <td>United Kingdom</td>\n",
       "    </tr>\n",
       "    <tr>\n",
       "      <th>541539</th>\n",
       "      <td>581498</td>\n",
       "      <td>85174</td>\n",
       "      <td>S/4 CACTI CANDLES</td>\n",
       "      <td>1</td>\n",
       "      <td>09-12-2011 10:26</td>\n",
       "      <td>10.79</td>\n",
       "      <td>NaN</td>\n",
       "      <td>United Kingdom</td>\n",
       "    </tr>\n",
       "    <tr>\n",
       "      <th>541540</th>\n",
       "      <td>581498</td>\n",
       "      <td>DOT</td>\n",
       "      <td>DOTCOM POSTAGE</td>\n",
       "      <td>1</td>\n",
       "      <td>09-12-2011 10:26</td>\n",
       "      <td>1714.17</td>\n",
       "      <td>NaN</td>\n",
       "      <td>United Kingdom</td>\n",
       "    </tr>\n",
       "  </tbody>\n",
       "</table>\n",
       "<p>135080 rows × 8 columns</p>\n",
       "</div>"
      ],
      "text/plain": [
       "       InvoiceNo StockCode                      Description  Quantity  \\\n",
       "622       536414     22139                              NaN        56   \n",
       "1443      536544     21773  DECORATIVE ROSE BATHROOM BOTTLE         1   \n",
       "1444      536544     21774  DECORATIVE CATS BATHROOM BOTTLE         2   \n",
       "1445      536544     21786               POLKADOT RAIN HAT          4   \n",
       "1446      536544     21787            RAIN PONCHO RETROSPOT         2   \n",
       "...          ...       ...                              ...       ...   \n",
       "541536    581498    85099B          JUMBO BAG RED RETROSPOT         5   \n",
       "541537    581498    85099C   JUMBO  BAG BAROQUE BLACK WHITE         4   \n",
       "541538    581498     85150    LADIES & GENTLEMEN METAL SIGN         1   \n",
       "541539    581498     85174                S/4 CACTI CANDLES         1   \n",
       "541540    581498       DOT                   DOTCOM POSTAGE         1   \n",
       "\n",
       "             InvoiceDate  UnitPrice  CustomerID         Country  \n",
       "622     01-12-2010 11:52       0.00         NaN  United Kingdom  \n",
       "1443    01-12-2010 14:32       2.51         NaN  United Kingdom  \n",
       "1444    01-12-2010 14:32       2.51         NaN  United Kingdom  \n",
       "1445    01-12-2010 14:32       0.85         NaN  United Kingdom  \n",
       "1446    01-12-2010 14:32       1.66         NaN  United Kingdom  \n",
       "...                  ...        ...         ...             ...  \n",
       "541536  09-12-2011 10:26       4.13         NaN  United Kingdom  \n",
       "541537  09-12-2011 10:26       4.13         NaN  United Kingdom  \n",
       "541538  09-12-2011 10:26       4.96         NaN  United Kingdom  \n",
       "541539  09-12-2011 10:26      10.79         NaN  United Kingdom  \n",
       "541540  09-12-2011 10:26    1714.17         NaN  United Kingdom  \n",
       "\n",
       "[135080 rows x 8 columns]"
      ]
     },
     "execution_count": 10,
     "metadata": {},
     "output_type": "execute_result"
    }
   ],
   "source": [
    "df.loc[Customer_ID_filter_isna , 'CustomerID'] = df.apply(lambda x:Upgrade_Item_Identifier_mean( x['InvoiceNo']) ,axis=1 )\n",
    "df[Customer_ID_filter_isna]"
   ]
  },
  {
   "cell_type": "code",
   "execution_count": 11,
   "id": "33687abb",
   "metadata": {},
   "outputs": [
    {
     "name": "stdout",
     "output_type": "stream",
     "text": [
      "{'22139': '', '21134': '', '22145': '', '37509': '', '85226A': '', '85044': '', '20950': '', '37461': '', '84670': '', '21777': '', '84952C': '', '35951': '', '22712': '', '22028': '', '85067': '', '21421': '', '21414': '', '21653': '', '21651': '', '85126': '', '21814': '', '21692': '', '21648': '', '21172': '', '21161': '', '84534B': '', '22162': '', '21535': '', '35965': '', '21040': '', '37464': '', '21836': '', '47556B': '', '84562A': '', '37474': '', '21807': '', '21011': '', '18098C': '', '21696': '', '37476': '', '84569B': '', '21027': '', '84898F': '', '84968B': '', '85215': '', '84270': '', '90167': '', '22959': '', '21054': '', '20684': '', '84881': '', '20941': '', '21248': '', '21349': '', '22155': '', '21488': '', '84840': '', '21486': '', '21595': '', '85170A': '', '20849': '', '84977': '', '21661': '', '72803B': '', '22034': '', '35958': '', '22114': '', '21690': '', '21763': '', '22833': '', '84688': '', '85008': '', '21429': '', '85167B': '', '22454': '', '20966': '', '21801': '', '21743': '', '37467': '', '21357': '', '84497': '', '90042C': '', '17091A': '', '84773': '', '85018C': '', '20878': '', '21186': '', '62095B': '', '72814': '', '84802A': '', '90002D': '', '22218': '', '84247C': '', '90042B': '', '20892': '', '21324': '', '20956': '', '22353': '', '21431': '', '79067': '', '85084': '', '35004P': '', '85135B': '', '22444': '', '21895': '', '22591': '', '71477': '', '35400': '', '21491': '', '21009': '', '22734': '', '35001W': '', '22830': '', '85064': '', '21784': '', '84689': '', '84675': '', '84499': '', '85230F': '', '22158': '', '22501': '', '90112': '', '22865': '', '35957': '', '22198': '', '90096': '', '47591D': '', '21587': '', '21589': '', '21275': '', '85124C': '', '21667': '', '84546': '', '35271S': '', '82605': '', 'POST': '', '84029E': '', '22323': '', '17011A': '', '21632': '', '22837': '', '85118': '', '22866': '', '22632': '', '22451': '', '20854': '', '84823': '', '21348': '', '20699': '', '21897': '', '82583': '', '85188B': '', '84279B': '', '35922': '', '84917': '', '84455': '', '84227': '', '84452': '', '22146': '', '84967A': '', '84967B': '', '84966B': '', '84966A': '', '37413': '', '79063D': '', '20798': '', '85049B': '', '75013B': '', '35607A': '', '22184': '', 'DCGS0055': '', 'DCGS0072': '', 'DCGS0074': '', '17165D': '', '20734': '', '20864': '', '20910': '', '21282': '', '21645': '', '21805': '', '21841': '', '22143': '', '22765': '', '35644': '', '35991': '', '47579': '', '84424A': '', '84509F': '', '84526': '', '84664': '', '84964B': '', '84975': '', '85028L': '', '85028S': '', '85031C': '', '85110': '', '85119': '', '85179B': '', '85232B': '', '90000C': '', '90095': '', '90091': '', 'DCGS0057': '', '84795C': '', '22242': '', '21448': '', '84748': '', '84465': '', '47591B': '', '85049F': '', '35004C': '', '79063C': '', '79062D': '', '21355': '', '35645': '', '84611B': '', '84613C': '', '84872A': '', '82095': '', '84306': '', '84638': '', '84631': '', '21087': '', '35969': '', '35954': '', '16207B': '', '84880': '', '85150': '', '22769': '', '22627': '', '22847': '', '22525': '', '21717': '', '84801B': '', '21655': '', '21785': '', '16033': '', '22633': '', '22867': '', '62094B': '', '22588': '', '22202': '', '62096A': '', '90200C': '', '22024': '', '20738': '', '22862': '', '85061W': '', '77101A': '', '15058B': '', '15058A': '', '22021': '', '84459B': '', '22988': '', '37379A': '', '20689': '', '20671': '', '85092': '', '47563B': '', '37477D': '', '37444B': '', '22080': '', '22272': '', '85160A': '', '21973': '', '37468': '', '84535A': '', '84247K': '', '79302M': '', '20752': '', '21503': '', '21504': '', '85045': '', '21484': '', '84029G': '', '21555': '', '85185B': '', '85096': '', '72225C': '', '84563A': '', '22777': '', '79321': '', '85206A': '', '23348': '', '20681': '', '21894': '', '17013D': '', '21613': '', '22791': '', '20934': '', '22245': '', '85049D': '', '22838': '', '21000': '', '22470': '', '21898': '', '84596E': '', '21538': '', '85197': '', '21258': '', '21826': '', '22764': '', '90084': '', '90005A': '', '85025C': '', '20785': '', '82483': '', '17011F': '', '21332': '', '21361': '', '22173': '', '21547': '', '20973': '', '84849D': '', '35809B': '', '21143': '', '21147': '', '84559D': '', '22459': '', '37444C': '', '21393': '', '21445': '', '71038': '', '20713': '', 'DOT': '', '21228': '', '35823P': '', '20857': '', '20860': '', '85224': '', '21051': '', '21190': '', '20850': '', '21283': '', '84854': '', '21911': '', '72821': '', '46115B': '', '21614': '', '22469': '', '21621': '', '47593A': '', '90099': '', '90104': '', '22036': '', '10002': '', '21527': '', '21827': '', '21095': '', '79172D': '', '84678': '', '84683': '', '22533': '', '85016': '', '22052': '', '20702': '', '84906': '', '22168': '', '22194': '', '21195': '', '22482': '', '15030': '', '90010A': '', '90010B': '', '90173': '', '90082B': '', '90035A': '', '16010': '', '21472': '', '82494L': '', '85185D': '', '72800F': '', '72781': '', '35015': '', '72793': '', '72800D': '', '72789': '', '72801G': '', '72798C': '', '85018B': '', '22720': '', '35824B': '', '84726': '', '84875A': '', '84876C': '', '47570B': '', '21210': '', '72799F': '', '84507B': '', '84741C': '', '35972': '', '84845D': '', '21278': '', '21279': '', '21274': '', '16020C': '', '84508B': '', '21281': '', '21474': '', '21684': '', '62096B': '', '84569A': '', '84520B': '', '10134': '', '20778': '', '16254': '', '16248B': '', '72051S': '', '84993B': '', '84569C': '', '84569D': '', '21681': '', '84990': '', '20756': '', '20759': '', '20758': '', '20760': '', '35819B': '', '35650': '', '84597C': '', '21416': '', '85017A': '', '20773': '', '35649': '', '79336': '', '21664': '', '21511': '', '21910': '', '81953P': '', '21518': '', '84247L': '', '16169P': '', '35815P': '', '44265': '', '84846A': '', '82545A': '', '84251F': '', '21637': '', '84218': '', '21160': '', '21171': '', '35603B': '', '20821': '', '47502': '', '84007': '', '84522': '', '79331': '', '21337': '', '84593': '', '46037A': '', '84856S': '', '84856L': '', '21738': '', '84912A': '', '51008': '', '84989A': '', '84251J': '', '40018F': '', '84864A': '', '20774': '', '35818B': '', '72815': '', '21825': '', '20748': '', '22033': '', '35914': '', '84251B': '', '10123G': '', '84597B': '', '85006': '', '84899F': '', '84921': '', '20775': '', '20863': '', '17014A': '', '22078': '', '84857C': '', '84858C': '', '47341A': '', '47344B': '', '62097B': '', '62043B': '', '20716': '', '20731': '', '84910A': '', '84919': '', '20701': '', '84415B': '', '20816': '', '46775D': '', '85146': '', '21736': '', '22415': '', '84559B': '', '20820': '', '21422': '', '84751B': '', '84531A': '', '84531B': '', '85099F': '', '35915C': '', '16202B': '', '84750B': '', '84388': '', '85030': '', '84666': '', '85027L': '', '21316': '', '79329': '', '82599': '', '85200': '', '85145': '', '85068': '', '16015': '', '22719': '', '21320': '', '22084': '', '44091A': '', '21923': '', '20896': '', '20825': '', '85136B': '', '85060': '', '35920': '', '35594': '', '21410': '', '21330': '', '84715': '', '78027': '', '37333': '', '22795': '', '21806': '', '22521': '', '85135A': '', '21269': '', '21038': '', '85226C': '', '85189': '', '47591A': '', '37424': '', '22726': '', '21412': '', '90100': '', '90037D': '', '85098B': '', '84873A': '', '84857A': '', '84482': '', '21120': '', '21854': '', '84548': '', '20933': '', '84750A': '', '84539': '', '79192A': '', '22625': '', '84685': '', '47589': '', '22467': '', '85144': '', '22656': '', '20975': '', '22136': '', '35609A': '', '20851': '', '84916': '', '17096': '', '21363': '', '84406B': '', '22073': '', '21043': '', '21974': '', '22524': '', '84766': '', '22775': '', '22035': '', '84596J': '', '84912B': '', '20964': '', '22926': '', '21137': '', '79164': '', '22087': '', '35970': '', '84789': '', '22060': '', '21259': '', '75131': '', '46126A': '', '20826': '', '20967': '', '37444A': '', '21318': '', '85141': '', '84760S': '', '23444': '', '22520': '', '22518': '', '20886': '', '82613B': '', '20998': '', '84313C': '', '22966': '', '84743C': '', '21144': '', '85195': '', '85198': '', '47574B': '', '16053': '', '16244B': '', '21609': '', '84913A': '', '16151A': '', '84746': '', '85214': '', '35653': '', '20903': '', '71143': '', '20664': '', '85086A': '', '35916A': '', '35916B': '', '35916C': '', '16049': '', '20801': '', '21904': '', '40003': '', '84691': '', '84804B': '', '22276': '', '21399': '', '35809A': '', '47021G': '', '15044B': '', '21662': '', '37501': '', '20906': '', '84226': '', '22519': '', '17007B': '', '22502': '', '84796B': '', '16052': '', '16043': '', '20823': '', '20735': '', '22968': '', '37479B': '', '22698': '', '22783': '', '84809A': '', '84800L': '', '22192': '', '79071B': '', '22480': '', '21446': '', '21447': '', '21937': '', '85213': '', '22567': '', '84706D': '', '84387A': '', '85130A': '', '22443': '', '84876B': '', '20658': '', '22722': '', '22088': '', '84576': '', '85132B': '', '85232A': '', '84709B': '', '47013C': '', '37423': '', '79161A': '', '22164': '', '22163': '', '21145': '', '21817': '', '35966': '', '21896': '', '23574': '', '35810B': '', '84857B': '', '84686': '', '84944': '', '16156S': '', '22050': '', '48116': '', '23283': '', '79337': '', '21700': '', '21169': '', '21635': '', '22863': '', '84341B': '', '22855': '', '21067': '', '21578': '', '44236': '', '21673': '', '84874B': '', '21683': '', '21865': '', '75172': '', '10123C': '', '16162L': '', '16162M': '', '21069': '', '84925F': '', '21272': '', '16169K': '', '81950B': '', '84629': '', '21634': '', '18007': '', '84877A': '', '84797B': '', '84798B': '', '21686': '', '81953B': '', '81950V': '', '35819P': '', '21891': '', '84402B': '', '84907': '', '72127': '', '85230E': '', '23084': '', '15036': '', '84763': '', '85087': '', 'DCGS0071': '', 'DCGS0070': '', 'DCGS0066P': '', '10080': '', '21868': '', '81952B': '', '21792': '', '21294': '', '84415A': '', '84595E': '', '84584': '', '21839': '', '40046A': '', '20954': '', '21594': '', '21858': '', '21432': '', '77079': '', '77081': '', '21765': '', '84905': '', '21781': '', '22528': '', '84761': '', '18097A': '', '17090D': '', '21610': '', '72709': '', '85040B': '', '84925D': '', '84466': '', '20666': '', '84927E': '', '84927D': '', '79026B': '', '21658': '', '21392': '', '37477B': '', '37477C': '', '84799': '', '84802B': '', '84847': '', '23134': '', '23284': '', '85127': '', '85017B': '', '22044': '', '22042': '', '21187': '', '21391': '', '23175': '', '47559B': '', '84596L': '', '21246': '', '22854': '', '85152': '', '84920': '', '21918': '', '21359': '', '21033': '', '84800M': '', '79000': '', '22740': '', '79163': '', '22461': '', '85106': '', '85107': '', '37342': '', '90120D': '', 'gift_0001_30': '', 'gift_0001_10': '', '22157': '', '16046': '', '22171': '', '21670': '', '22606': '', '21257': '', '84976': '', '21907': '', '21179': '', '82551': '', '21165': '', '21175': '', '20665': '', '85032D': '', '84754': '', '21820': '', '90209C': '', '16259': '', '84660C': '', '21682': '', '47343A': '', '85232D': '', '23066': '', '15060B': '', '20686': '', '22268': '', '23306': '', '84708B': '', '23065': '', '22244': '', '21311': '', '20977': '', '16045': '', '48173C': '', '84725': '', '22453': '', '22452': '', '22445': '', '84877B': '', '23135': '', '35592T': '', '35597D': '', '23028': '', '22925': '', '21174': '', '17012A': '', '22665': '', '22688': '', '23091': '', '20980': '', '35597A': '', '35591T': '', '35598A': '', '84663A': '', '84927A': '', '21641': '', '20793': '', '85211': '', '35911A': '', '21586': '', '22687': '', '90082D': '', '22497': '', '22893': '', '18094C': '', '84660A': '', '22548': '', '22409': '', '21830': '', '21098': '', '21244': '', '22829': '', '22784': '', '21809': '', '84625C': '', '47504K': '', '23152': '', '21163': '', '20984': '', '21870': '', '90210C': '', '90014C': '', '90014B': '', '90164B': '', '90164A': '', '22062': '', '37370': '', '90209B': '', '21395': '', '21394': '', '22570': '', '22336': '', '35933': '', '23412': '', '21288': '', '23268': '', '84247E': '', '22848': '', '21078': '', '21402': '', '84596G': '', '72816': '', '20669': '', '21407': '', '23159': '', '82567': '', '23702': '', '22149': '', '22729': '', '85036A': '', '84877D': '', '37327': '', '79030D': '', '40016': '', '72818': '', '22180': '', '21804': '', '23400': '', '23579': '', '21071': '', '21181': '', 'C2': '', '22827': '', '22812': '', '17012B': '', '22121': '', '22412': '', '16207A': '', '21618': '', '72802C': '', '85125': '', '72817': '', '37489A': '', '22125': '', '22568': '', '84971L': '', '23131': '', '22579': '', '23541': '', '22943': '', '21811': '', '21638': '', '21110': '', '22810': '', '21116': '', '47503A': '', '21927': '', '22947': '', '22696': '', '21758': '', '21808': '', '21803': '', '22689': '', '84581': '', '23406': '', '21620': '', '85175': ''}\n"
     ]
    }
   ],
   "source": [
    "dicc={}\n",
    "\n",
    "for i in df.index:\n",
    "    if pd.isnull(df['Description'][i]):\n",
    "        x = df['StockCode'][i]\n",
    "        dicc[x]=''\n",
    "print(dicc)\n"
   ]
  },
  {
   "cell_type": "code",
   "execution_count": 12,
   "id": "336042a4",
   "metadata": {},
   "outputs": [
    {
     "name": "stdout",
     "output_type": "stream",
     "text": [
      "{'22139': 'RETROSPOT TEA SET CERAMIC 11 PC ', '21134': '', '22145': 'CHRISTMAS CRAFT HEART STOCKING ', '37509': 'NEW ENGLAND MUG W GIFT BOX', '85226A': '', '85044': '', '20950': '', '37461': 'FUNKY MONKEY MUG', '84670': '', '21777': 'RECIPE BOX WITH METAL HEART', '84952C': 'MIRROR LOVE BIRD T-LIGHT HOLDER', '35951': '', '22712': 'CARD DOLLY GIRL ', '22028': 'PENNY FARTHING BIRTHDAY CARD', '85067': 'CREAM SWEETHEART WALL CABINET', '21421': 'damaged', '21414': 'SCALLOP SHELL SOAP DISH', '21653': '', '21651': 'HANGING GLASS ETCHED TEALIGHT', '85126': 'LARGE ROUND CUTGLASS CANDLESTICK', '21814': 'HEART T-LIGHT HOLDER ', '21692': 'SILVER LATTICE VANILLA CANDLE POT', '21648': 'ASSORTED TUTTI FRUTTI SMALL PURSE', '21172': 'PARTY METAL SIGN ', '21161': 'KEEP OUT BOYS DOOR HANGER ', '84534B': 'FAIRY CAKE NOTEBOOK A5 SIZE', '22162': 'HEART GARLAND RUSTIC PADDED', '21535': 'RED RETROSPOT SMALL MILK JUG', '35965': 'FOLKART HEART NAPKIN RINGS', '21040': 'MODERN VINTAGE COTTON SHOPPING BAG', '37464': 'ROBOT MUG IN DISPLAY BOX', '21836': 'GINGHAM OVEN GLOVE RED HEART ', '47556B': 'TEA TIME TEA TOWELS ', '84562A': 'PINK/WHITE RIBBED MELAMINE JUG', '37474': 'SET/4 2 TONE EGG SHAPE MIXING BOWLS', '21807': 'WHITE CHRISTMAS STAR DECORATION', '21011': 'GLITTER SNOW PEAR TREE DECORATION', '18098C': 'PORCELAIN BUTTERFLY OIL BURNER', '21696': 'SMALL SILVER TRELLIS CANDLEPOT', '37476': 'CONDIMENT TRAY 4 BOWLS AND 4 SPOONS', '84569B': 'PACK 3 FIRE ENGINE/CAR PATCHES', '21027': 'NINJA RABBIT PINK', '84898F': 'YELLOW FLOWERS FELT HANDBAG KIT', '84968B': 'SET OF 16 VINTAGE IVORY CUTLERY', '85215': 'Damaged', '84270': 'ASSTD DESIGN BUBBLE GUM RING', '90167': 'BEADED LOVE HEART JEWELLERY SET', '22959': 'WRAP CHRISTMAS VILLAGE', '21054': \"NURSE'S BAG SOFT TOY\", '20684': 'STRAWBERRY DREAM CHILDS UMBRELLA', '84881': 'BLUE WIRE SPIRAL CANDLE HOLDER', '20941': 'FROG CANDLE', '21248': 'DOOR HANGER  MUM + DADS ROOM', '21349': 'check', '22155': 'STAR DECORATION RUSTIC', '21488': 'RED WHITE SCARF  HOT WATER BOTTLE', '84840': 'SWEETHEART CARRY-ALL BASKET', '21486': 'PINK HEART DOTS HOT WATER BOTTLE', '21595': \"Dad's Cab Electronic Meter\", '85170A': 'SET/6 IVORY BIRD T-LIGHT CANDLES', '20849': '', '84977': 'WIRE FLOWER T-LIGHT HOLDER', '21661': 'VINTAGE GLASS TEA CADDY', '72803B': '', '22034': 'ROBIN CHRISTMAS CARD', '35958': 'FOLKART ZINC STAR CHRISTMAS DEC', '22114': 'HOT WATER BOTTLE TEA AND SYMPATHY', '21690': 'SILVER  CANDLEPOT JARDIN ', '21763': 'VINTAGE WOODEN BAR STOOL', '22833': 'HALL CABINET WITH 3 DRAWERS', '84688': 'BEACH HUT DESIGN BLACKBOARD', '85008': 'SET OF 3 CONEY ISLAND OVAL BOXES', '21429': 'RED GINGHAM ROSE JEWELLERY BOX', '85167B': 'DAMAGED', '22454': 'MEASURING TAPE BABUSHKA RED', '20966': 'SANDWICH BATH SPONGE', '21801': 'CHRISTMAS TREE DECORATION WITH BELL', '21743': 'STAR PORTABLE TABLE LIGHT ', '37467': 'PIG MUG IN TWO COLOUR DESIGNS', '21357': 'TOAST ITS - DINOSAUR', '84497': 'BUTTONS AND STRIPES NOTEBOOK ', '90042C': 'FRESHWATER PEARL BRACELET IVORY', '17091A': 'LAVENDER INCENSE IN TIN', '84773': 'RED ROSE AND LACE C/COVER', '85018C': '', '20878': 'SET/9 CHRISTMAS T-LIGHTS SCENTED ', '21186': 'WHITE DOVE HONEYCOMB PAPER GARLAND', '62095B': '', '72814': '', '84802A': 'WHITE ANEMONE ARTIFICIAL FLOWER', '90002D': 'FLOWER BURST SILVER RING CRYSTAL', '22218': 'CAKE STAND LACE WHITE', '84247C': '', '90042B': '', '20892': 'SET/3 TALL GLASS CANDLE HOLDER PINK', '21324': 'HANGING MEDINA LANTERN SMALL', '20956': 'PORCELAIN T-LIGHT HOLDERS ASSORTED', '22353': 'LUNCH BOX WITH CUTLERY FAIRY CAKES ', '21431': '', '79067': 'CORONA MEXICAN TRAY', '85084': 'HOLLY TOP CHRISTMAS STOCKING', '35004P': 'SET OF 3 PINK FLYING DUCKS', '85135B': 'BLUE DRAGONFLY HELICOPTER', '22444': 'GROW YOUR OWN PLANT IN A CAN ', '21895': \"POTTING SHED SOW 'N' GROW SET\", '22591': 'CARDHOLDER GINGHAM CHRISTMAS TREE', '71477': 'COLOURED GLASS STAR T-LIGHT HOLDER', '35400': 'WOODEN BOX ADVENT CALENDAR ', '21491': 'SET OF THREE VINTAGE GIFT WRAPS', '21009': 'ETCHED GLASS STAR TREE DECORATION', '22734': 'SET OF 6 RIBBONS VINTAGE CHRISTMAS', '35001W': 'HAND OPEN SHAPE DECO.WHITE', '22830': 'UTILTY CABINET WITH HOOKS', '85064': 'CREAM SWEETHEART LETTER RACK', '21784': 'SHOE SHINE BOX ', '84689': 'S/2 BEACH HUT TREASURE CHESTS', '84675': 'FROG KING WATERING CAN', '84499': 'BLACK FLOWER CANDLE PLATE', '85230F': 'JASMINE VOTIVE CANDLE', '22158': '3 HEARTS HANGING DECORATION RUSTIC', '22501': 'PICNIC BASKET WICKER LARGE', '90112': 'PINK DOLLY HAIR CLIPS', '22865': 'HAND WARMER OWL DESIGN', '35957': 'SMALLFOLKART BAUBLE CHRISTMAS DEC', '22198': 'LARGE POPCORN HOLDER ', '90096': 'NECKLACE+BRACELET SET BLUE BLOSSOM', '47591D': 'PINK FAIRY CAKE CHILDRENS APRON', '21587': 'COSY HOUR GIANT TUBE MATCHES', '21589': '', '21275': 'ZINC TOP  2 DOOR WOODEN SHELF ', '85124C': 'GREEN JUICY FRUIT PHOTO FRAME', '21667': 'GLASS CAKE COVER AND PLATE', '84546': '', '35271S': 'GOLD PRINT PAPER BAG', '82605': 'OLD DOC RUSSEL METAL SIGN', 'POST': 'POSTAGE', '84029E': 'RED WOOLLY HOTTIE WHITE HEART.', '22323': 'PINK POLKADOT KIDS BAG', '17011A': '', '21632': 'VINTAGE PINK DECORATIVE PARASOL', '22837': 'HOT WATER BOTTLE BABUSHKA ', '85118': 'HEART T-LIGHT HOLDER', '22866': 'HAND WARMER SCOTTY DOG DESIGN', '22632': 'HAND WARMER RED RETROSPOT', '22451': 'SILK PURSE BABUSHKA RED', '20854': 'BLUE PATCH PURSE PINK HEART', '84823': 'DANISH ROSE FOLDING CHAIR', '21348': 'PINK SPOTS CHOCOLATE NESTING BOXES ', '20699': 'MOUSEY LONG LEGS SOFT TOY', '21897': 'POTTING SHED CANDLE CITRONELLA', '82583': 'HOT BATHS METAL SIGN', '85188B': 'PINK METAL SWINGING BUNNY', '84279B': 'CHERRY BLOSSOM DECORATIVE FLASK', '35922': 'EASTER BUNNY WREATH', '84917': 'WHITE HAND TOWEL WITH BUTTERFLY', '84455': '', '84227': 'HEN HOUSE W CHICK IN NEST', '84452': 'METAL RABBIT LADDER EASTER ', '22146': 'EASTER CRAFT IVY WREATH WITH CHICK', '84967A': '', '84967B': '', '84966B': '', '84966A': '', '37413': 'ICON MUG REVOLUTIONARY', '79063D': 'RETRO PILL BOX , REVOLUTIONARY', '20798': 'CLEAR MILKSHAKE GLASS', '85049B': 'Amazon', '75013B': 'STRING OF 8 BUTTERFLIES,PINK', '35607A': 'PINK FLUFFY CHRISTMAS DECORATION', '22184': 'CAKE STAND VICTORIAN FILIGREE LARGE', 'DCGS0055': '', 'DCGS0072': '', 'DCGS0074': '', '17165D': \"ASS COL LARGE SAND FROG P'WEIGHT\", '20734': 'SILVER MINI TAPE MEASURE ', '20864': '', '20910': 'VINTAGE PHOTO ALBUM PARIS DAYS', '21282': '', '21645': 'ASSORTED TUTTI FRUTTI ROUND BOX', '21805': '', '21841': 'BABY MOUSE RED GINGHAM DRESS', '22143': '', '22765': 'NEWSPAPER STAND', '35644': '', '35991': '', '47579': 'TEA TIME BREAKFAST BASKET', '84424A': '', '84509F': '', '84526': '', '84664': '', '84964B': '', '84975': 'HEART SHAPED MIRROR', '85028L': 'FRENCH CHATEAU LARGE FRUIT BOWL ', '85028S': 'FRENCH CHATEAU SMALL FRUITBOWL', '85031C': 'CURIOUS IMAGES SCRAP BOOK SET', '85110': '', '85119': 'WATERING CAN SINGLE HOOK PISTACHIO', '85179B': '', '85232B': 'SET OF 3 BABUSHKA STACKING TINS', '90000C': '', '90095': '', '90091': '', 'DCGS0057': '', '84795C': 'OCEAN STRIPE HAMMOCK ', '22242': '5 HOOK HANGER MAGIC TOADSTOOL', '21448': '12 DAISY PEGS IN WOOD BOX', '84748': 'FOLK FELT HANGING MULTICOL GARLAND', '84465': '15 PINK FLUFFY CHICKS IN BOX', '47591B': 'SCOTTIES CHILDRENS APRON', '85049F': 'BABY BOOM RIBBONS ', '35004C': 'SET OF 3 COLOURED  FLYING DUCKS', '79063C': 'RETRO PILL BOX KEY CHAIN,THE KING', '79062D': 'RETRO TIN ASHTRAY,REVOLUTIONARY', '21355': 'TOAST ITS - I LOVE YOU ', '35645': 'VINTAGE BEAD PINK JEWEL BOX', '84611B': 'thrown away', '84613C': 'BLUE NEW BAROQUE FLOCK CANDLESTICK', '84872A': 'TEATIME FUNKY FLOWER BACKPACK FOR 2', '82095': 'HEART BUTTONS JEWELLERY BOX', '84306': 'S/3 PINK SQUARE PLANTERS ROSES', '84638': 'SMALL KITCHEN FLOWER POTS PLAQUE', '84631': 'FRUIT TREE AND BIRDS WALL PLAQUE', '21087': 'SET/6 POSIES PAPER CUPS', '35969': '', '35954': 'check', '16207B': 'PINK HEART RED HANDBAG', '84880': 'WHITE WIRE EGG HOLDER', '85150': 'LADIES & GENTLEMEN METAL SIGN', '22769': 'CHALKBOARD KITCHEN ORGANISER', '22627': 'MINT KITCHEN SCALES', '22847': 'BREAD BIN DINER STYLE IVORY', '22525': 'CHILDRENS GARDEN GLOVES PINK', '21717': 'EASTER TIN BUCKET', '84801B': 'WHITE HYDRANGEA ART FLOWER', '21655': 'HANGING RIDGE GLASS T-LIGHT HOLDER', '21785': 'RAIN PONCHO ', '16033': 'MINI HIGHLIGHTER PENS', '22633': 'HAND WARMER UNION JACK', '22867': 'HAND WARMER BIRD DESIGN', '62094B': 'TURQ ICE CREAM BUM BAG ', '22588': 'CARD HOLDER GINGHAM HEART', '22202': 'MILK PAN PINK POLKADOT', '62096A': 'PINK/YELLOW FLOWERS HANDBAG', '90200C': 'BLUE SWEETHEART BRACELET', '22024': 'RAINY LADIES BIRTHDAY CARD', '20738': '', '22862': 'LOVE HEART NAPKIN BOX ', '85061W': 'WHITE JEWELLED HEART DECORATION', '77101A': 'UNION FLAG WINDSOCK', '15058B': 'PINK POLKADOT GARDEN PARASOL', '15058A': 'BLUE POLKADOT GARDEN PARASOL', '22021': 'BLUE FELT EASTER EGG BASKET', '84459B': 'YELLOW METAL CHICKEN HEART ', '22988': 'SOLDIERS EGG CUP ', '37379A': 'PINK CHERRY BLOSSOM CUP & SAUCER', '20689': '', '20671': 'BLUE TEATIME PRINT BOWL ', '85092': 'CANDY SPOT TEA COSY', '47563B': '', '37477D': '', '37444B': 'BLUE BREAKFAST CUP AND SAUCER ', '22080': 'RIBBON REEL POLKADOTS ', '22272': 'Damaged', '85160A': 'WHITE BIRD GARDEN DESIGN MUG', '21973': 'SET OF 36 MUSHROOM PAPER DOILIES', '37468': 'HARDMAN MUG 3 ASSORTED', '84535A': 'ENGLISH ROSE NOTEBOOK A6 SIZE', '84247K': 'FOLK ART GREETING CARD,pack/12', '79302M': 'ART LIGHTS,FUNK MONKEY', '20752': 'BLUE POLKADOT WASHING UP GLOVES', '21503': 'TOYBOX  WRAP ', '21504': 'SKULLS GREETING CARD', '85045': 'GREEN CHRISTMAS TREE STRING 20LIGHT', '21484': 'CHICK GREY HOT WATER BOTTLE', '84029G': 'KNITTED UNION FLAG HOT WATER BOTTLE', '21555': 'CERAMIC STRAWBERRY TRINKET TRAY', '85185B': 'PINK HORSE SOCK PUPPET KIT', '85096': 'HILDA CANDY SPOT RABBIT', '72225C': 'LAVENDER SCENT CAKE CANDLE', '84563A': 'damaged', '22777': 'GLASS CLOCHE LARGE', '79321': 'CHILLI LIGHTS', '85206A': 'CREAM FELT EASTER EGG BASKET', '23348': 'CHILDRENS TOY COOKING UTENSIL SET', '20681': 'PINK POLKADOT CHILDRENS UMBRELLA', '21894': 'POTTING SHED SEED ENVELOPES', '17013D': 'ORIGAMI ROSE INCENSE IN TUBE', '21613': 'S/12 VANILLA  BOTANICAL T-LIGHTS', '22791': 'T-LIGHT GLASS FLUTED ANTIQUE', '20934': 'SET/3 POT PLANT CANDLES', '22245': 'HOOK, 1 HANGER ,MAGIC GARDEN', '85049D': 'BRIGHT BLUES RIBBONS ', '22838': '3 TIER CAKE TIN RED AND CREAM', '21000': 'ROSE DU SUD COSMETICS BAG', '22470': 'HEART OF WICKER LARGE', '21898': 'POTTING SHED ROSE CANDLE', '84596E': 'SMALL LICORICE DES PINK BOWL', '21538': 'DAIRY MAID  PUDDING BOWL', '85197': 'SET OF 12 MINI BUNNIES IN A BUCKET', '21258': 'VICTORIAN SEWING BOX LARGE', '21826': 'EIGHT PIECE DINOSAUR SET', '22764': 'RUSTIC WOODEN CABINET, GLASS DOORS', '90084': 'PINK CRYSTAL GUITAR PHONE CHARM', '90005A': 'JADE GREEN ENAMEL HAIR COMB', '85025C': 'PINK HEART SHAPE PHOTO FRAME', '20785': 'FUSCHIA RETRO BAR STOOL', '82483': 'WOOD 2 DRAWER CABINET WHITE FINISH', '17011F': 'ORIGAMI SANDLEWOOD INCENSE+FLOWER', '21332': 'MOROCCAN BEATEN METAL MIRROR', '21361': 'LOVE LARGE WOOD LETTERS ', '22173': 'METAL 4 HOOK HANGER FRENCH CHATEAU', '21547': 'CERAMIC BIRDHOUSE CRESTED TIT SMALL', '20973': '12 PENCIL SMALL TUBE WOODLAND', '84849D': 'HOT BATHS SOAP HOLDER', '35809B': 'ENAMEL BLUE RIM TEA CONTAINER', '21143': 'ANTIQUE GLASS HEART DECORATION ', '21147': 'JINGLE BELLS TREE DECORATION', '84559D': '', '22459': 'CAST IRON HOOK GARDEN TROWEL', '37444C': 'PINK BREAKFAST CUP AND SAUCER ', '21393': 'BLUE POLKADOT PUDDING BOWL', '21445': '12 PINK ROSE PEG PLACE SETTINGS', '71038': 'WHITE HANGING BEADS CANDLE HOLDER', '20713': 'JUMBO BAG OWLS', 'DOT': 'DOTCOM POSTAGE', '21228': 'POCKET MIRROR \"GLAMOROUS\"', '35823P': '', '20857': 'BLUE ROSE PATCH PURSE PINK BUTTERFL', '20860': 'GOLD COSMETICS BAG WITH BUTTERFLY', '85224': 'ASSORTED COLOUR SILK GLASSES CASE', '21051': 'RIBBONS PURSE ', '21190': 'PINK HEARTS PAPER GARLAND', '20850': '', '21283': '', '84854': 'GIRLY PINK TOOL SET', '21911': 'GARDEN METAL SIGN ', '72821': 'CUPID SCENTED CANDLE IN GLASS', '46115B': 'GREEN POP ART MAO CUSHION COVER ', '21614': 'SET OF 12 ROSE BOTANICAL T-LIGHTS', '22469': 'HEART OF WICKER SMALL', '21621': 'VINTAGE UNION JACK BUNTING', '47593A': 'CAROUSEL PONIES BABY BIB', '90099': 'NECKLACE+BRACELET SET BLUE HIBISCUS', '90104': 'PURPLE FRANGIPANI HAIRCLIP', '22036': '', '10002': 'INFLATABLE POLITICAL GLOBE ', '21527': 'RED RETROSPOT TRADITIONAL TEAPOT ', '21827': 'EIGHT PIECE CREEPY CRAWLIE SET', '21095': 'SET/6 POSIES PAPER PLATES', '79172D': '', '84678': 'CLASSICAL ROSE SMALL VASE', '84683': 'CLASSICAL ROSE CANDLESTAND', '22533': 'MAGIC DRAWING SLATE BAKE A CAKE ', '85016': 'SET OF 6 VINTAGE NOTELETS KIT', '22052': 'VINTAGE CARAVAN GIFT WRAP', '20702': 'PINK PADDED MOBILE', '84906': 'PINK BUTTERFLY CUSHION COVER', '22168': 'ORGANISER WOOD ANTIQUE WHITE ', '22194': 'BLACK DINER WALL CLOCK', '21195': 'PINK  HONEYCOMB PAPER BALL ', '22482': 'BLUE TEA TOWEL CLASSIC DESIGN', '15030': 'FAN BLACK FRAME ', '90010A': 'MIDNIGHT BLUE GLASS/SILVER BRACELET', '90010B': 'BLACK/WHITE GLASS/SILVER BRACELET', '90173': 'PAIR BUTTERFLY HAIR CLIPS', '90082B': 'DIAMANTE BOW BROOCH RED COLOUR', '90035A': 'PEARL & SHELL 42\"NECKL. GREEN', '16010': 'FOLDING CAMPING SCISSOR W/KNIF & S', '21472': 'LADYBIRD + BEE RAFFIA FOOD COVER', '82494L': 'WOODEN FRAME ANTIQUE WHITE ', '85185D': 'FROG SOCK PUPPET', '72800F': '', '72781': '', '35015': '', '72793': '', '72800D': '4 BLUE DINNER CANDLES SILVER FLOCK', '72789': '', '72801G': '4 BURGUNDY WINE DINNER CANDLES', '72798C': 'SET/4 GARDEN ROSE DINNER CANDLE', '85018B': '', '22720': 'SET OF 3 CAKE TINS PANTRY DESIGN ', '35824B': '', '84726': '', '84875A': '', '84876C': '', '47570B': 'TEA TIME TABLE CLOTH', '21210': 'SET OF 72 RETROSPOT PAPER  DOILIES', '72799F': 'IVORY PILLAR CANDLE GOLD FLOCK', '84507B': 'STRIPES DESIGN MONKEY DOLL', '84741C': 'CITRUS GARLAND FELT FLOWERS ', '35972': 'check', '84845D': '', '21278': 'VINTAGE KITCHEN PRINT PUDDINGS', '21279': 'VINTAGE KITCHEN PRINT FRUITS', '21274': '', '16020C': 'CLEAR STATIONERY BOX SET ', '84508B': 'STRIPES DESIGN TEDDY', '21281': 'VINTAGE KITCHEN PRINT SEAFOOD', '21474': '', '21684': 'SMALL MEDINA STAMPED METAL BOWL ', '62096B': 'PURPLE/TURQ FLOWERS HANDBAG', '84569A': 'PACK 3 IRON ON DOG PATCHES', '84520B': 'PACK 20 ENGLISH ROSE PAPER NAPKINS', '10134': '', '20778': 'GARDEN PATH NOTEBOOK ', '16254': 'TRANSPARENT ACRYLIC TAPE DISPENSER', '16248B': 'BLUE HOLE PUNCH', '72051S': 'BAG OF SILVER STONES', '84993B': '75 BLACK PETIT FOUR CASES', '84569C': 'PACK 4 FLOWER/BUTTERFLY PATCHES', '84569D': 'PACK 6 HEART/ICE-CREAM PATCHES', '21681': 'GIANT MEDINA STAMPED METAL BOWL ', '84990': '60 GOLD AND SILVER FAIRY CAKE CASES', '20756': 'GREEN FERN POCKET BOOK', '20759': 'CHRYSANTHEMUM POCKET BOOK ', '20758': 'ABSTRACT CIRCLES POCKET BOOK', '20760': 'GARDEN PATH POCKET BOOK', '35819B': 'check', '35650': 'VINTAGE BEAD PINK JEWEL STAND', '84597C': 'RETRO PINK BALL ASHTRAY ', '21416': 'CLAM SHELL LARGE', '85017A': 'ENVELOPE 50 ROMANTIC IMAGES', '20773': 'BLUE PAISLEY NOTEBOOK', '35649': 'VINTAGE BEAD COSMETIC BAG ', '79336': 'LIGHT PINK FLOCK GLASS CANDLEHOLDER', '21664': 'RIDGED GLASS STORAGE JAR CREAM LID', '21511': '', '21910': 'WAY OUT METAL SIGN ', '81953P': 'ROUND ARTICULATED PINK CLOCK W/SUCK', '21518': 'BANK ACCOUNT  GREETING  CARD ', '84247L': 'FAWN AND MUSHROOM GREETING CARD', '16169P': 'WRAP GREEN RUSSIAN FOLKART ', '35815P': 'ACRYLIC JEWEL SNOWFLAKE, PINK', '44265': 'M/COLOUR POM-POM CURTAIN', '84846A': 'SCENTED CANDLE IN DIGITALIS TIN', '82545A': '', '84251F': '', '21637': 'ASSORTED SANSKRIT MINI NOTEBOOK', '84218': 'BOX/12 CHICK & EGG IN BASKET', '21160': 'KEEP OUT GIRLS DOOR HANGER ', '21171': 'BATHROOM METAL SIGN ', '35603B': '', '20821': 'GOLDIE LOOKING MIRROR', '47502': '', '84007': '', '84522': 'PINK PARTY SUNGLASSES', '79331': 'PINK FLOCK GLASS CANDLEHOLDER', '21337': '', '84593': 'CROCHET ROSE DES CLOTHES HANGER', '46037A': '', '84856S': 'SMALL TAHITI BEACH BAG', '84856L': 'LARGE TAHITI BEACH BAG', '21738': 'COSY SLIPPER SHOES SMALL  RED ', '84912A': 'PINK ROSE WASHBAG', '51008': 'AFGHAN SLIPPER SOCK PAIR', '84989A': '75 GREEN FAIRY CAKE CASES', '84251J': '', '40018F': '', '84864A': '', '20774': 'GREEN FERN NOTEBOOK', '35818B': 'adjustment', '72815': '3 WICK CHRISTMAS BRIAR CANDLE ', '21825': '', '20748': 'KENSINGTON COFFEE SET', '22033': 'BOTANICAL ROSE GREETING CARD', '35914': 'PINK CHICK EGG WARMER + EGG CUP', '84251B': 'GREETING CARD, STICKY GORDON', '10123G': '', '84597B': 'damages', '85006': 'SET 4 NURSERY DES ROUND BOXES', '84899F': '', '84921': 'CREAM AND PINK FLOWERS PONY ', '20775': 'DAISY NOTEBOOK ', '20863': '', '17014A': 'ORIGAMI VANILLA INCENSE CONES', '22078': 'RIBBON REEL LACE DESIGN ', '84857C': 'PINK MONTE CARLO HANDBAG', '84858C': 'PINK RIVIERA HANDBAG', '47341A': 'FUSCHIA TABLE RUN FLOWER ', '47344B': 'BLUE FLOWER DES PURSE', '62097B': 'BLUE STRIPES SHOULDER BAG', '62043B': 'BLUE CHECK BAG W HANDLE 34X20CM', '20716': 'PARTY FOOD SHOPPER BAG', '20731': 'POSY CANDY BAG', '84910A': 'PINK PAISLEY CUSHION COVER ', '84919': 'BLUE CUSHION COVER WITH FLOWER', '20701': 'PINK CAT FLORAL CUSHION COVER ', '84415B': 'BLUE FLOCK CUSHION COVER ', '20816': 'GOLD FLOWER CUSHION COVER ', '46775D': 'SUNSET COLOUR CHUNKY KNITTED THROW', '85146': 'JARDIN ETCHED GLASS SMALL BELL JAR', '21736': 'GOLD SCROLL GLASS T-LIGHT HOLDER', '22415': 'WHITE TISSUE REAM', '84559B': '3D SHEET OF CAT STICKERS', '20820': 'SILVER LOOKING MIRROR', '21422': 'PORCELAIN ROSE SMALL', '84751B': 'BLACK MEDIUM GLASS CAKE STAND', '84531A': 'returned', '84531B': 'returned', '85099F': 'JUMBO BAG STRAWBERRY', '35915C': 'PEACH KNITTED HEN ', '16202B': 'PASTEL BLUE PHOTO ALBUM ', '84750B': 'BLACK SMALL GLASS CAKE STAND', '84388': 'WISE MAN STAR SHAPE EGG PAN', '85030': 'FRENCH CHATEAU OVAL PLATTER', '84666': 'SQUARE CHERRY BLOSSOM CABINET', '85027L': 'FRENCH CHATEAU LARGE PLATTER ', '21316': 'SMALL CHUNKY GLASS ROMAN  BOWL', '79329': 'PINK FLOCK GLASS CANDLEHOLDER', '82599': \"FANNY'S REST STOPMETAL SIGN\", '85200': 'BUNNY EGG BOX', '85145': 'JARDIN ETCHED GLASS LARGE BELL JAR', '85068': 'CREAM SWEETHEART SHELF + HOOKS', '16015': 'MEDIUM CHINESE STYLE SCISSOR', '22719': 'GUMBALL MONOCHROME COAT RACK', '21320': 'GLASS CHALICE GREEN  LARGE ', '22084': 'PAPER CHAIN KIT EMPIRE', '44091A': 'BLUE CRUSOE CHECK LAMPSHADE', '21923': '', '20896': '', '20825': '', '85136B': 'BLUE SHARK HELICOPTER', '85060': '', '35920': 'FOUR RABBIT EASTER DECORATIONS', '35594': '', '21410': 'COUNTRY COTTAGE  DOORSTOP GREEN', '21330': '', '84715': 'SET OF 6 ICE CREAM SKITTLES', '78027': '', '37333': 'RETRO \"TEA FOR ONE\" ', '22795': 'SWEETHEART RECIPE BOOK STAND', '21806': '', '22521': 'CHILDS GARDEN TROWEL PINK', '85135A': 'YELLOW DRAGONFLY HELICOPTER', '21269': 'ANTIQUE CREAM CUTLERY SHELF ', '21038': 'SET/4 MODERN VINTAGE COTTON NAPKINS', '85226C': '', '85189': 'HANGING BUTTERFLY  EGG', '47591A': '', '37424': '', '22726': 'ALARM CLOCK BAKELIKE GREEN', '21412': 'VINTAGE GOLD TINSEL REEL', '90100': 'NECKLACE+BRACELET SET PINK DAISY', '90037D': '', '85098B': 'BLUE FLYING SINGING CANARY', '84873A': 'FUNKY FLOWER PICNIC BAG FOR 4', '84857A': '', '84482': '', '21120': '*Boombox Ipod Classic', '21854': '', '84548': 'CROCHET BEAR RED/BLUE  KEYRING', '20933': 'YELLOW POT PLANT CANDLE', '84750A': 'PINK SMALL GLASS CAKE STAND', '84539': 'KNITTED RABBIT DOLL ', '79192A': \"RETRO PLASTIC 70'S TRAY\", '22625': 'RED KITCHEN SCALES', '84685': 'BEACH HUT KEY CABINET', '47589': 'CONGRATULATIONS BUNTING', '22467': 'GUMBALL COAT RACK', '85144': 'JARDIN ETCHED GLASS CHEESE DISH', '22656': 'VINTAGE BLUE KITCHEN CABINET', '20975': '12 PENCILS SMALL TUBE RED RETROSPOT', '22136': 'LOVE HEART SOCK HANGER', '35609A': 'PINK FEATHER CHRISTMAS DECORATION', '20851': 'ZINC HEART LATTICE TRAY OVAL ', '84916': 'HAND TOWEL PALE BLUE W FLOWERS', '17096': 'ASSORTED LAQUERED INCENSE HOLDERS', '21363': 'HOME SMALL WOOD LETTERS', '84406B': 'CREAM CUPID HEARTS COAT HANGER', '22073': 'RED RETROSPOT STORAGE JAR', '21043': 'APRON MODERN VINTAGE COTTON', '21974': 'SET OF 36 PAISLEY FLOWER DOILIES', '22524': 'CHILDRENS GARDEN GLOVES BLUE', '84766': 'SILVER ROCOCO CANDLE STICK', '22775': 'PURPLE DRAWERKNOB ACRYLIC EDWARDIAN', '22035': 'VINTAGE CARAVAN GREETING CARD ', '84596J': 'MIXED NUTS LIGHT GREEN BOWL', '84912B': 'GREEN ROSE WASHBAG', '20964': 'POLYESTER FILLER PAD 60x40cm', '22926': 'IVORY GIANT GARDEN THERMOMETER', '21137': 'BLACK RECORD COVER FRAME', '79164': 'BLACK WINE GLASS', '22087': 'PAPER BUNTING WHITE LACE', '35970': 'ZINC FOLKART SLEIGH BELLS', '84789': 'ENCHANTED BIRD PLANT CAGE', '22060': 'damaged', '21259': 'VICTORIAN SEWING BOX SMALL ', '75131': 'METAL TUBE CHIME ON BAMBOO', '46126A': 'ELVIS WALLHANGING / CURTAIN', '20826': 'SILVER APERITIF GLASS', '20967': 'GREY FLORAL FELTCRAFT SHOULDER BAG', '37444A': 'YELLOW BREAKFAST CUP AND SAUCER', '21318': 'GLASS CHALICE BLUE SMALL ', '85141': 'JARDIN ETCHED GLASS FRUITBOWL', '84760S': 'SMALL HANGING GLASS+ZINC LANTERN', '23444': 'Next Day Carriage', '22520': 'CHILDS GARDEN TROWEL BLUE ', '22518': 'CHILDS GARDEN BRUSH BLUE', '20886': 'BOX OF 9 PEBBLE CANDLES', '82613B': 'METAL SIGN,CUPCAKE SINGLE HOOK', '20998': 'ROSE DU SUD OVEN GLOVE', '84313C': 'damaged', '22966': 'GINGERBREAD MAN COOKIE CUTTER', '84743C': 'damages', '21144': 'PINK POODLE HANGING DECORATION ', '85195': 'HANGING HEART BASKET', '85198': 'ASSORTED FARMYARD ANIMALS IN BUCKET', '47574B': 'ENGLISH ROSE SCENTED HANGING HEART', '16053': '', '16244B': 'MAXWELL 2 TONE BLUE 60 PAGE PHOTO A', '21609': 'SET 12 LAVENDER  BOTANICAL T-LIGHTS', '84913A': 'SOFT PINK ROSE TOWEL ', '16151A': 'FLOWERS HANDBAG blue and orange', '84746': 'PINK EASTER HENS+FLOWER', '85214': 'TUB 24 PINK FLOWER PEGS', '35653': 'VINTAGE BEAD NOTEBOOK', '20903': 'VINTAGE KEEPSAKE BOX TRAVELOGUE', '71143': 'ANTIQUE SILVER BOOK MARK WITH BEADS', '20664': 'TROPICAL HOLIDAY PURSE ', '85086A': 'CANDY SPOT HEART DECORATION', '35916A': 'YELLOW FELT HANGING HEART W FLOWER', '35916B': 'BLUE FELT HANGING HEART WITH FLOWER', '35916C': 'PINK FELT HANGING HEART W FLOWER', '16049': 'TEATIME GEL PENS ASST', '20801': 'LARGE PINK GLASS SUNDAE DISH', '21904': 'HOUSE WRECKING METAL SIGN ', '40003': 'WHITE BAMBOO RIBS LAMPSHADE', '84691': 'PACK 20 DOLLY PEGS', '84804B': 'BLUE DELPHINIUM ARTIFICIAL FLOWER', '22276': 'WASH BAG VINTAGE ROSE PAISLEY', '21399': 'BLUE POLKADOT COFFEE MUG', '35809A': 'ENAMEL PINK TEA CONTAINER', '47021G': 'SET/6 BEAD COASTERS GAUZE BAG GOLD', '15044B': 'BLUE PAPER PARASOL ', '21662': 'VINTAGE GLASS COFFEE CADDY', '37501': 'TEA TIME TEA SET IN GIFT BOX', '20906': 'VINTAGE NOTEBOOK BEAUTY GIRL', '84226': 'HEN HOUSE W FAMILY IN BARN & NEST', '22519': 'CHILDS GARDEN BRUSH PINK', '17007B': 'S/3 POT POURI CUSHIONS BLUE COLOURS', '22502': 'PICNIC BASKET WICKER SMALL', '84796B': 'BLUE SAVANNAH PICNIC HAMPER FOR 2', '16052': 'TEATIME PUSH DOWN RUBBER', '16043': 'POP ART PUSH DOWN RUBBER ', '20823': 'GOLD WINE GOBLET', '20735': 'BLACK MINI TAPE MEASURE ', '22968': 'ROSE COTTAGE KEEPSAKE BOX ', '37479B': 'CUBIC MUG FLOCK BLUE ON BROWN', '22698': 'PINK REGENCY TEACUP AND SAUCER', '22783': 'SET 3 WICKER OVAL BASKETS W LIDS', '84809A': 'WHITE CHRYSANTHEMUMS ART FLOWER', '84800L': 'LARGE WHITE/PINK ROSE ART FLOWER', '22192': 'BLUE DINER WALL CLOCK', '79071B': 'ENGLISH ROSE METAL WASTE BIN', '22480': 'RED TEA TOWEL CLASSIC DESIGN', '21446': '12 RED ROSE PEG PLACE SETTINGS', '21447': '12 IVORY ROSE PEG PLACE SETTINGS', '21937': 'STRAWBERRY   PICNIC BAG', '85213': 'MINI  ZINC GARDEN DECORATIONS ', '22567': '20 DOLLY PEGS RETROSPOT', '84706D': 'CHERRY BLOSSOM TABLE CLOCK ', '84387A': 'BIRD ON BRANCH CANVAS SCREEN', '85130A': 'BEADED PEARL HEART WHITE LARGE', '22443': 'GROW YOUR OWN HERBS SET OF 3', '84876B': 'found', '20658': 'RED RETROSPOT LUGGAGE TAG', '22722': 'SET OF 6 SPICE TINS PANTRY DESIGN', '22088': 'PAPER BUNTING COLOURED LACE', '84576': 'damaged', '85132B': 'CHARLIE AND LOLA TABLE TINS', '85232A': 'SET/3 POLKADOT STACKING TINS', '84709B': 'PINK OVAL JEWELLED MIRROR', '47013C': 'WINE BOTTLE DRESSING DARK BLUE', '37423': 'WHITE WITH BLACK CATS PLATE', '79161A': 'ST GEORGE SET OF 10 PARTY LIGHTS', '22164': 'STRING OF STARS CARD HOLDER', '22163': 'HEART STRING MEMO HOLDER HANGING', '21145': 'ANTIQUE GLASS PLACE SETTING', '21817': 'check', '35966': 'FOLKART CHRISTMAS TREE T-LIGHT HOLD', '21896': 'POTTING SHED TWINE', '23574': 'PACKING CHARGE', '35810B': 'ENAMEL BLUE RIM COFFEE CONTAINER', '84857B': 'BLUE MONTE CARLO HANDBAG', '84686': 'BEACH HUT MIRROR', '84944': 'SET OF 6 KASHMIR FOLKART BAUBLES', '16156S': 'WRAP PINK FAIRY CAKES ', '22050': 'PINK PAISLEY ROSE GIFT WRAP', '48116': 'DOORMAT MULTICOLOUR STRIPE', '23283': 'DOORMAT VINTAGE LEAF', '79337': 'BLUE FLOCK GLASS CANDLEHOLDER', '21700': 'BIG DOUGHNUT FRIDGE MAGNETS', '21169': \"YOU'RE CONFUSING ME METAL SIGN \", '21635': 'MADRAS NOTEBOOK LARGE ', '22863': 'SOAP DISH BROCANTE', '84341B': 'SMALL PINK MAGIC CHRISTMAS TREE', '22855': 'FINE WICKER HEART ', '21067': 'VINTAGE RED TEATIME MUG', '21578': 'WOODLAND DESIGN  COTTON TOTE BAG', '44236': 'PINK/PURPLE CIRCLE CURTAIN', '21673': 'WHITE SPOT BLUE CERAMIC DRAWER KNOB', '84874B': 'BLUE TRAVEL FIRST AID KIT', '21683': 'MEDIUM MEDINA STAMPED METAL BOWL ', '21865': 'PINK UNION JACK  PASSPORT COVER ', '75172': 'PAINTED SEA SHELL METAL WINDCHIME', '10123C': 'HEARTS WRAPPING TAPE ', '16162L': 'THE KING GIFT BAG', '16162M': 'THE KING GIFT BAG 25x24x12cm', '21069': 'VINTAGE BILLBOARD TEA MUG', '84925F': 'PSYCHEDELIC WALL THERMOMETER', '21272': 'SALLE DE BAIN HOOK', '16169K': 'WRAP FOLK ART', '81950B': 'FLOWER BLUE CLOCK WITH SUCKER', '84629': 'WHITE 3 FRAME BIRDS AND TREE ', '21634': 'ASSORTED MINI MADRAS NOTEBOOK', '18007': 'ESSENTIAL BALM 3.5g TIN IN ENVELOPE', '84877A': 'PINK ROUND COMPACT MIRROR', '84797B': '', '84798B': 'PURPLE FOXGLOVE ARTIIFCIAL FLOWER', '21686': 'MEDINA STAMPED METAL STOOL', '81953B': 'ROUND BLUE CLOCK WITH SUCKER', '81950V': 'FLOWER PURPLE CLOCK WITH SUCKER', '35819P': 'ACRYLIC HANGING JEWEL,PINK', '21891': 'TRADITIONAL WOODEN SKIPPING ROPE', '84402B': 'PURPLE DRESS JEWELLERY STAND', '84907': 'PINK YELLOW PATCH CUSHION COVER', '72127': 'COLUMBIAN CANDLE ROUND ', '85230E': 'Damaged', '23084': 'RABBIT NIGHT LIGHT', '15036': 'ASSORTED COLOURS SILK FAN', '84763': 'ZINC FINISH 15CM PLANTER POTS', '85087': 'CANDY SPOT CUSHION COVER', 'DCGS0071': '', 'DCGS0070': 'CAMOUFLAGE DOG COLLAR', 'DCGS0066P': '', '10080': 'GROOVY CACTUS INFLATABLE', '21868': 'POTTING SHED TEA MUG', '81952B': 'ROUND BLUE CLOCK WITH SUCKER', '21792': 'CLASSIC FRENCH STYLE BASKET GREEN ', '21294': 'ETCHED GLASS COASTER', '84415A': 'PINK FLOCK SUEDE CUSHION COVER ', '84595E': 'LARGE TORTILLA DESIGN RED BOWL', '84584': 'PINK GINGHAM CAT WITH SCARF', '21839': 'MUMMY MOUSE RED GINGHAM RIBBON', '40046A': 'RED DAISY PAPER LAMPSHADE', '20954': '*USB Office Mirror Ball', '21594': \"Dr. Jam's Arouzer Stress Ball\", '21858': '', '21432': '', '77079': 'DOLPHIN WINDMILL', '77081': '', '21765': '', '84905': 'PINK BUTTERFLY CUSHION COVER ', '21781': 'MA CAMPAGNE CUTLERY BOX', '22528': 'GARDENERS KNEELING PAD', '84761': '', '18097A': 'PINK TALL PORCELAIN T-LIGHT HOLDER ', '17090D': 'VANILLA INCENSE 40 CONES IN TIN', '21610': '', '72709': 'IVORY SCULPTED RND CANDLE ', '85040B': 'SET/4 BLUE FLOWER CANDLES IN BOWL', '84925D': 'LA PALMIERA WALL THERMOMETER', '84466': 'TOP SECRET PEN SET', '20666': 'ECONOMY HOLIDAY PURSE', '84927E': 'FLOWERS TILE HOOK', '84927D': 'LA PALMIERA TILE HOOK', '79026B': 'S/4 ICON COASTER,ELVIS LIVES', '21658': 'GLASS  BEURRE DISH', '21392': 'RED POLKADOT PUDDING BOWL', '37477B': '', '37477C': '', '84799': 'SPRIG LAVENDER ARTIFICIAL FLOWER', '84802B': 'PURPLE ANEMONE ARTIFICIAL FLOWER', '84847': 'FLORAL BATHROOM SET', '23134': 'LARGE ZINC HEART WALL ORGANISER', '23284': 'DOORMAT KEEP CALM AND COME IN', '85127': 'SMALL SQUARE CUT GLASS CANDLESTICK', '85017B': 'ENVELOPE 50 BLOSSOM IMAGES', '22044': 'CHRISTMAS CARD STACK OF PRESENTS', '22042': 'CHRISTMAS CARD SINGING ANGEL', '21187': 'WHITE BELL HONEYCOMB PAPER GARLAND ', '21391': 'FRENCH LAVENDER SCENT HEART', '23175': 'REGENCY MILK JUG PINK ', '47559B': 'TEA TIME OVEN GLOVE', '84596L': 'BISCUITS SMALL BOWL LIGHT BLUE', '21246': 'damaged', '22854': 'CREAM SWEETHEART EGG HOLDER', '85152': 'HAND OVER THE CHOCOLATE   SIGN ', '84920': 'PINK FLOWER FABRIC PONY', '21918': 'SET 12 KIDS COLOUR  CHALK STICKS', '21359': 'RELAX LARGE WOOD LETTERS', '21033': 'JUMBO BAG CHARLIE AND LOLA TOYS', '84800M': 'MEDIUM WHITE/PINK ROSE ART FLOWER', '79000': 'MOROCCAN TEA GLASS', '22740': 'adjustment', '79163': 'damaged', '22461': 'SAVOY ART DECO CLOCK', '85106': 'CUT GLASS HEXAGON T-LIGHT HOLDER', '85107': 'CUT GLASS T-LIGHT HOLDER OCTAGON', '37342': 'POLKADOT COFFEE CUP & SAUCER PINK', '90120D': 'WHITE MURANO TWIST BRACELET', 'gift_0001_30': 'Dotcomgiftshop Gift Voucher £30.00', 'gift_0001_10': 'Dotcomgiftshop Gift Voucher £10.00', '22157': 'ANGEL DECORATION WITH LACE PADDED', '16046': 'TEATIME PEN CASE & PENS', '22171': '3 HOOK PHOTO SHELF ANTIQUE WHITE', '21670': 'BLUE SPOT CERAMIC DRAWER KNOB', '22606': 'WOODEN SKITTLES GARDEN SET', '21257': 'VICTORIAN SEWING BOX MEDIUM', '84976': 'RECTANGULAR SHAPED MIRROR', '21907': \"I'M ON HOLIDAY METAL SIGN\", '21179': 'damaged', '82551': 'LAUNDRY 15C METAL SIGN', '21165': 'BEWARE OF THE CAT METAL SIGN ', '21175': 'GIN AND TONIC DIET METAL SIGN', '20665': 'RED RETROSPOT PURSE ', '85032D': 'damaged', '84754': 'S/15 SILVER GLASS BAUBLES IN BAG', '21820': 'GLITTER HEART GARLAND WITH BELLS ', '90209C': 'PINK ENAMEL+GLASS HAIR COMB', '16259': 'PIECE OF CAMO STATIONERY SET', '84660C': 'PINK STITCHED WALL CLOCK', '21682': 'LARGE MEDINA STAMPED METAL BOWL ', '47343A': 'FUSCHIA FLOWER PURSE WITH BEADS', '85232D': 'SET/3 DECOUPAGE STACKING TINS', '23066': 'SMALL DECO JEWELLERY STAND', '15060B': 'FAIRY CAKE DESIGN UMBRELLA', '20686': \"DOLLY MIXTURE CHILDREN'S UMBRELLA\", '22268': 'check', '23306': 'SET OF 36 PANTRY PAPER DOILIES', '84708B': 'PINK JEWELLED PHOTO FRAME ', '23065': 'LARGE DECO JEWELLERY STAND', '22244': '3 HOOK HANGER MAGIC GARDEN', '21311': 'SET/4 BIRD MIRROR MAGNETS ', '20977': '36 PENCILS TUBE WOODLAND', '16045': 'POPART WOODEN PENCILS ASST', '48173C': 'DOORMAT BLACK FLOCK ', '84725': 'FREESTYLE CANVAS ART PICTURE', '22453': 'MEASURING TAPE BABUSHKA BLUE', '22452': 'MEASURING TAPE BABUSHKA PINK', '22445': 'PENCIL CASE LIFE IS BEAUTIFUL', '84877B': 'GREEN ROUND COMPACT MIRROR', '23135': 'SMALL ZINC HEART WALL ORGANISER', '35592T': '', '35597D': 'PINK/WHITE CHRISTMAS TREE 30CM', '23028': 'DRAWER KNOB CRACKLE GLAZE BLUE', '22925': 'AMAZON', '21174': 'POTTERING IN THE SHED METAL SIGN', '17012A': 'ORIGAMI VANILLA INCENSE/CANDLE SET ', '22665': 'RECIPE BOX BLUE SKETCHBOOK DESIGN', '22688': 'DOORMAT PEACE ON EARTH BLUE', '23091': 'ZINC HERB GARDEN CONTAINER', '20980': '36 PENCILS TUBE POSY', '35597A': 'DUSTY PINK CHRISTMAS TREE 30CM', '35591T': 'TURQUOISE CHRISTMAS TREE ', '35598A': 'DUSTY PINK CHRISTMAS TREE 60CM', '84663A': 'GRASS HOPPER WOODEN WALL CLOCK ', '84927A': 'WAKE UP COCKEREL TILE HOOK', '21641': 'ASSORTED TUTTI FRUTTI KEYRING BALL', '20793': 'BLUE TILED TRAY', '85211': 'S/4 GROOVY CAT MAGNETS', '35911A': 'MULTICOLOUR RABBIT EGG WARMER', '21586': 'KINGS CHOICE GIANT TUBE MATCHES', '22687': 'DOORMAT CHRISTMAS VILLAGE', '90082D': 'DIAMANTE BOW BROOCH BLACK COLOUR', '22497': 'SET OF 2 TINS VINTAGE BATHROOM ', '22893': 'MINI CAKE STAND T-LIGHT HOLDER', '18094C': 'WHITE AND BLUE CERAMIC OIL BURNER', '84660A': 'WHITE STITCHED WALL CLOCK', '22548': 'adjustment', '22409': 'MONEY BOX BISCUITS DESIGN', '21830': 'ASSORTED CREEPY CRAWLIES', '21098': 'CHRISTMAS TOILET ROLL', '21244': 'BLUE POLKADOT PLATE ', '22829': 'SWEETHEART WIRE WALL TIDY', '22784': 'LANTERN CREAM GAZEBO ', '21809': 'CHRISTMAS HANGING TREE WITH BELL', '84625C': 'BLUE NEW BAROQUE CANDLESTICK CANDLE', '47504K': 'ENGLISH ROSE GARDEN SECATEURS', '23152': 'IVORY SWEETHEART WIRE LETTER RACK ', '21163': 'DO NOT TOUCH MY STUFF DOOR HANGER ', '20984': 'damaged', '21870': 'I CAN ONLY PLEASE ONE PERSON MUG', '90210C': 'RED   ACRYLIC FACETED BANGLE', '90014C': 'SILVER AND BLACK ORBIT NECKLACE', '90014B': 'GOLD M.O.P. ORBIT NECKLACE', '90164B': 'WHITE  ROSEBUD PEARL BRACELET', '90164A': 'PINK ROSEBUD PEARL BRACELET', '22062': 'CERAMIC BOWL WITH LOVE HEART DESIGN', '37370': 'RETRO COFFEE MUGS ASSORTED', '90209B': 'GREEN ENAMEL+GLASS HAIR COMB', '21395': 'BLUE POLKADOT BEAKER ', '21394': 'RED POLKADOT BEAKER ', '22570': 'FELTCRAFT CUSHION RABBIT', '22336': 'damaged', '35933': 'PINK STOCKING CHRISTMAS DECORATION', '23412': 'HEART MIRROR ANTIQUE WHITE', '21288': 'STRIPEY CHOCOLATE NESTING BOXES', '23268': 'SET OF 2 CERAMIC CHRISTMAS REINDEER', '84247E': 'PACK OF 12 CHRISTMAS FUN CARDS', '22848': 'AMAZON', '21078': 'SET/20 STRAWBERRY PAPER NAPKINS ', '21402': 'RED  EGG  SPOON', '84596G': 'SMALL CHOCOLATES PINK BOWL', '72816': 'SET/3 CHRISTMAS DECOUPAGE CANDLES', '20669': 'RED HEART LUGGAGE TAG', '21407': 'BROWN CHECK CAT DOORSTOP ', '23159': 'SET OF 5 PANCAKE DAY MAGNETS', '82567': 'AIRLINE LOUNGE,METAL SIGN', '23702': 'High Resolution Image', '22149': 'check', '22729': 'ALARM CLOCK BAKELIKE ORANGE', '85036A': 'GARDENIA 1 WICK MORRIS BOXED CANDLE', '84877D': 'BLUE ROUND COMPACT MIRROR', '37327': 'adjustment', '79030D': 'TUMBLER BAROQUE', '40016': 'CHINESE DRAGON PAPER LANTERNS', '72818': 'check', '22180': 'RETROSPOT LAMP', '21804': 'dotcom', '23400': 'SHELF WITH 4 HOOKS HOME SWEET HOME', '23579': 'SNACK TRAY I LOVE LONDON', '21071': 'VINTAGE BILLBOARD DRINK ME MUG', '21181': 'PLEASE ONE PERSON METAL SIGN', 'C2': 'CARRIAGE', '22827': 'RUSTIC  SEVENTEEN DRAWER SIDEBOARD', '22812': 'PACK 3 BOXES CHRISTMAS PANETTONE', '17012B': 'ORIGAMI JASMINE INCENSE/CANDLE SET', '22121': 'NOEL WOODEN BLOCK LETTERS ', '22412': 'METAL SIGN NEIGHBOURHOOD WITCH ', '16207A': 'PINK STRAWBERRY HANDBAG ', '21618': '4 WILDFLOWER BOTANICAL CANDLES', '72802C': 'VANILLA SCENT CANDLE JEWELLED BOX', '85125': 'SMALL ROUND CUT GLASS CANDLESTICK', '72817': 'SET OF 2 CHRISTMAS DECOUPAGE CANDLE', '37489A': 'YELLOW/PINK FLOWER DESIGN BIG MUG', '22125': 'UNION JACK HOT WATER BOTTLE ', '22568': 'FELTCRAFT CUSHION OWL', '84971L': '', '23131': 'MISTLETOE HEART WREATH CREAM', '22579': 'WOODEN TREE CHRISTMAS SCANDINAVIAN', '23541': 'WALL ART CLASSIC PUDDINGS ', '22943': 'CHRISTMAS LIGHTS 10 VINTAGE BAUBLES', '21811': 'HANGING HEART WITH BELL', '21638': 'ASSORTED TUTTI FRUTTI NOTEBOOK', '21110': 'LARGE CAKE TOWEL PINK SPOTS', '22810': 'SET OF 6 T-LIGHTS SNOWMEN', '21116': 'OWL DOORSTOP', '47503A': 'ASS FLORAL PRINT MULTI SCREWDRIVER', '21927': 'BLUE/CREAM STRIPE CUSHION COVER ', '22947': 'WOODEN ADVENT CALENDAR RED', '22696': 'WICKER WREATH LARGE', '21758': 'VINTAGE SHELLS PRINT', '21808': 'CHRISTMAS GARLAND STARS,TREES', '21803': 'CHRISTMAS TREE STAR DECORATION', '22689': 'DOORMAT MERRY CHRISTMAS RED ', '84581': 'DOG TOY WITH PINK CROCHET SKIRT', '23406': 'HOME SWEET HOME KEY HOLDER', '21620': 'SET OF 4 ROSE BOTANICAL CANDLES', '85175': 'CACTI T-LIGHT CANDLES'}\n"
     ]
    }
   ],
   "source": [
    "for sc in dicc:\n",
    "    for e in range(0, len(df['StockCode'])):\n",
    "        if sc == df['StockCode'][e] and pd.notnull(df['Description'][e]):\n",
    "            dicc[sc]=df['Description'][e]\n",
    "print(dicc)\n"
   ]
  },
  {
   "cell_type": "code",
   "execution_count": 13,
   "id": "6272523b",
   "metadata": {},
   "outputs": [],
   "source": [
    "for u in df.index:\n",
    "    if pd.isnull(df['Description'][u]):\n",
    "        for sc in dicc:\n",
    "            if sc == df['StockCode'][u] and dicc[sc]!=\"\":\n",
    "                df['Description'][u] = dicc[sc]\n"
   ]
  },
  {
   "cell_type": "code",
   "execution_count": 18,
   "id": "32826609",
   "metadata": {},
   "outputs": [
    {
     "data": {
      "text/html": [
       "<div>\n",
       "<style scoped>\n",
       "    .dataframe tbody tr th:only-of-type {\n",
       "        vertical-align: middle;\n",
       "    }\n",
       "\n",
       "    .dataframe tbody tr th {\n",
       "        vertical-align: top;\n",
       "    }\n",
       "\n",
       "    .dataframe thead th {\n",
       "        text-align: right;\n",
       "    }\n",
       "</style>\n",
       "<table border=\"1\" class=\"dataframe\">\n",
       "  <thead>\n",
       "    <tr style=\"text-align: right;\">\n",
       "      <th></th>\n",
       "      <th>InvoiceNo</th>\n",
       "      <th>StockCode</th>\n",
       "      <th>Description</th>\n",
       "      <th>Quantity</th>\n",
       "      <th>InvoiceDate</th>\n",
       "      <th>UnitPrice</th>\n",
       "      <th>CustomerID</th>\n",
       "      <th>Country</th>\n",
       "    </tr>\n",
       "  </thead>\n",
       "  <tbody>\n",
       "    <tr>\n",
       "      <th>541323</th>\n",
       "      <td>581498</td>\n",
       "      <td>15056bl</td>\n",
       "      <td>EDWARDIAN PARASOL BLACK</td>\n",
       "      <td>2</td>\n",
       "      <td>09-12-2011 10:26</td>\n",
       "      <td>12.46</td>\n",
       "      <td>NaN</td>\n",
       "      <td>United Kingdom</td>\n",
       "    </tr>\n",
       "    <tr>\n",
       "      <th>541324</th>\n",
       "      <td>581498</td>\n",
       "      <td>20669</td>\n",
       "      <td>RED HEART LUGGAGE TAG</td>\n",
       "      <td>3</td>\n",
       "      <td>09-12-2011 10:26</td>\n",
       "      <td>2.46</td>\n",
       "      <td>NaN</td>\n",
       "      <td>United Kingdom</td>\n",
       "    </tr>\n",
       "    <tr>\n",
       "      <th>541325</th>\n",
       "      <td>581498</td>\n",
       "      <td>20679</td>\n",
       "      <td>EDWARDIAN PARASOL RED</td>\n",
       "      <td>5</td>\n",
       "      <td>09-12-2011 10:26</td>\n",
       "      <td>12.46</td>\n",
       "      <td>NaN</td>\n",
       "      <td>United Kingdom</td>\n",
       "    </tr>\n",
       "    <tr>\n",
       "      <th>541326</th>\n",
       "      <td>581498</td>\n",
       "      <td>20712</td>\n",
       "      <td>JUMBO BAG WOODLAND ANIMALS</td>\n",
       "      <td>3</td>\n",
       "      <td>09-12-2011 10:26</td>\n",
       "      <td>4.13</td>\n",
       "      <td>NaN</td>\n",
       "      <td>United Kingdom</td>\n",
       "    </tr>\n",
       "    <tr>\n",
       "      <th>541327</th>\n",
       "      <td>581498</td>\n",
       "      <td>20713</td>\n",
       "      <td>JUMBO BAG OWLS</td>\n",
       "      <td>8</td>\n",
       "      <td>09-12-2011 10:26</td>\n",
       "      <td>4.13</td>\n",
       "      <td>NaN</td>\n",
       "      <td>United Kingdom</td>\n",
       "    </tr>\n",
       "    <tr>\n",
       "      <th>...</th>\n",
       "      <td>...</td>\n",
       "      <td>...</td>\n",
       "      <td>...</td>\n",
       "      <td>...</td>\n",
       "      <td>...</td>\n",
       "      <td>...</td>\n",
       "      <td>...</td>\n",
       "      <td>...</td>\n",
       "    </tr>\n",
       "    <tr>\n",
       "      <th>541536</th>\n",
       "      <td>581498</td>\n",
       "      <td>85099B</td>\n",
       "      <td>JUMBO BAG RED RETROSPOT</td>\n",
       "      <td>5</td>\n",
       "      <td>09-12-2011 10:26</td>\n",
       "      <td>4.13</td>\n",
       "      <td>NaN</td>\n",
       "      <td>United Kingdom</td>\n",
       "    </tr>\n",
       "    <tr>\n",
       "      <th>541537</th>\n",
       "      <td>581498</td>\n",
       "      <td>85099C</td>\n",
       "      <td>JUMBO  BAG BAROQUE BLACK WHITE</td>\n",
       "      <td>4</td>\n",
       "      <td>09-12-2011 10:26</td>\n",
       "      <td>4.13</td>\n",
       "      <td>NaN</td>\n",
       "      <td>United Kingdom</td>\n",
       "    </tr>\n",
       "    <tr>\n",
       "      <th>541538</th>\n",
       "      <td>581498</td>\n",
       "      <td>85150</td>\n",
       "      <td>LADIES &amp; GENTLEMEN METAL SIGN</td>\n",
       "      <td>1</td>\n",
       "      <td>09-12-2011 10:26</td>\n",
       "      <td>4.96</td>\n",
       "      <td>NaN</td>\n",
       "      <td>United Kingdom</td>\n",
       "    </tr>\n",
       "    <tr>\n",
       "      <th>541539</th>\n",
       "      <td>581498</td>\n",
       "      <td>85174</td>\n",
       "      <td>S/4 CACTI CANDLES</td>\n",
       "      <td>1</td>\n",
       "      <td>09-12-2011 10:26</td>\n",
       "      <td>10.79</td>\n",
       "      <td>NaN</td>\n",
       "      <td>United Kingdom</td>\n",
       "    </tr>\n",
       "    <tr>\n",
       "      <th>541540</th>\n",
       "      <td>581498</td>\n",
       "      <td>DOT</td>\n",
       "      <td>DOTCOM POSTAGE</td>\n",
       "      <td>1</td>\n",
       "      <td>09-12-2011 10:26</td>\n",
       "      <td>1714.17</td>\n",
       "      <td>NaN</td>\n",
       "      <td>United Kingdom</td>\n",
       "    </tr>\n",
       "  </tbody>\n",
       "</table>\n",
       "<p>218 rows × 8 columns</p>\n",
       "</div>"
      ],
      "text/plain": [
       "       InvoiceNo StockCode                     Description  Quantity  \\\n",
       "541323    581498   15056bl         EDWARDIAN PARASOL BLACK         2   \n",
       "541324    581498     20669           RED HEART LUGGAGE TAG         3   \n",
       "541325    581498     20679           EDWARDIAN PARASOL RED         5   \n",
       "541326    581498     20712      JUMBO BAG WOODLAND ANIMALS         3   \n",
       "541327    581498     20713                  JUMBO BAG OWLS         8   \n",
       "...          ...       ...                             ...       ...   \n",
       "541536    581498    85099B         JUMBO BAG RED RETROSPOT         5   \n",
       "541537    581498    85099C  JUMBO  BAG BAROQUE BLACK WHITE         4   \n",
       "541538    581498     85150   LADIES & GENTLEMEN METAL SIGN         1   \n",
       "541539    581498     85174               S/4 CACTI CANDLES         1   \n",
       "541540    581498       DOT                  DOTCOM POSTAGE         1   \n",
       "\n",
       "             InvoiceDate  UnitPrice  CustomerID         Country  \n",
       "541323  09-12-2011 10:26      12.46         NaN  United Kingdom  \n",
       "541324  09-12-2011 10:26       2.46         NaN  United Kingdom  \n",
       "541325  09-12-2011 10:26      12.46         NaN  United Kingdom  \n",
       "541326  09-12-2011 10:26       4.13         NaN  United Kingdom  \n",
       "541327  09-12-2011 10:26       4.13         NaN  United Kingdom  \n",
       "...                  ...        ...         ...             ...  \n",
       "541536  09-12-2011 10:26       4.13         NaN  United Kingdom  \n",
       "541537  09-12-2011 10:26       4.13         NaN  United Kingdom  \n",
       "541538  09-12-2011 10:26       4.96         NaN  United Kingdom  \n",
       "541539  09-12-2011 10:26      10.79         NaN  United Kingdom  \n",
       "541540  09-12-2011 10:26    1714.17         NaN  United Kingdom  \n",
       "\n",
       "[218 rows x 8 columns]"
      ]
     },
     "execution_count": 18,
     "metadata": {},
     "output_type": "execute_result"
    }
   ],
   "source": [
    "df[df[\"InvoiceNo\"]==\"581498\"]"
   ]
  },
  {
   "cell_type": "code",
   "execution_count": 21,
   "id": "e17643e9",
   "metadata": {},
   "outputs": [
    {
     "data": {
      "text/plain": [
       "5268"
      ]
     },
     "execution_count": 21,
     "metadata": {},
     "output_type": "execute_result"
    }
   ],
   "source": [
    "df.duplicated().sum()"
   ]
  },
  {
   "cell_type": "code",
   "execution_count": 22,
   "id": "5ee2d69e",
   "metadata": {},
   "outputs": [
    {
     "data": {
      "text/plain": [
       "InvoiceNo           0\n",
       "StockCode           0\n",
       "Description       112\n",
       "Quantity            0\n",
       "InvoiceDate         0\n",
       "UnitPrice           0\n",
       "CustomerID     135080\n",
       "Country             0\n",
       "dtype: int64"
      ]
     },
     "execution_count": 22,
     "metadata": {},
     "output_type": "execute_result"
    }
   ],
   "source": [
    "df.isna().sum()"
   ]
  },
  {
   "cell_type": "code",
   "execution_count": 23,
   "id": "f1353729",
   "metadata": {},
   "outputs": [],
   "source": [
    "df=df.dropna()"
   ]
  },
  {
   "cell_type": "code",
   "execution_count": 24,
   "id": "333a1cb5",
   "metadata": {},
   "outputs": [],
   "source": [
    "df=df.drop_duplicates()"
   ]
  },
  {
   "cell_type": "code",
   "execution_count": 27,
   "id": "9b330803",
   "metadata": {},
   "outputs": [
    {
     "data": {
      "text/plain": [
       "0"
      ]
     },
     "execution_count": 27,
     "metadata": {},
     "output_type": "execute_result"
    }
   ],
   "source": [
    "df.duplicated().sum()"
   ]
  },
  {
   "cell_type": "markdown",
   "id": "a2e419f9",
   "metadata": {},
   "source": [
    "# Separar columna \"InvoiceDate\" en columnas distintas para fechas y horas"
   ]
  },
  {
   "cell_type": "code",
   "execution_count": 28,
   "id": "27d8fe0e",
   "metadata": {},
   "outputs": [],
   "source": [
    "#convert from object to datatime\n",
    "df[\"InvoiceDate\"]=pd.to_datetime(df[\"InvoiceDate\"],format=\"%d-%m-%Y %H:%M\")"
   ]
  },
  {
   "cell_type": "code",
   "execution_count": 29,
   "id": "19a3d06c",
   "metadata": {},
   "outputs": [],
   "source": [
    "df[\"Year\"]=df[\"InvoiceDate\"].dt.year\n",
    "df[\"Month\"]=df[\"InvoiceDate\"].dt.month\n",
    "df[\"Hour\"]=df[\"InvoiceDate\"].dt.hour\n",
    "df[\"Day\"]=df[\"InvoiceDate\"].dt.day\n",
    "df[\"WeekDay\"]=df[\"InvoiceDate\"].dt.day_name()\n",
    "df['WeekDayCase'] = df['WeekDay'].apply(lambda x : 'WeekEnd' if str(x).lower() in ['saturday','sunday'] else 'WeekDay')"
   ]
  },
  {
   "cell_type": "code",
   "execution_count": 30,
   "id": "fd2f7d71",
   "metadata": {},
   "outputs": [
    {
     "data": {
      "text/html": [
       "<div>\n",
       "<style scoped>\n",
       "    .dataframe tbody tr th:only-of-type {\n",
       "        vertical-align: middle;\n",
       "    }\n",
       "\n",
       "    .dataframe tbody tr th {\n",
       "        vertical-align: top;\n",
       "    }\n",
       "\n",
       "    .dataframe thead th {\n",
       "        text-align: right;\n",
       "    }\n",
       "</style>\n",
       "<table border=\"1\" class=\"dataframe\">\n",
       "  <thead>\n",
       "    <tr style=\"text-align: right;\">\n",
       "      <th></th>\n",
       "      <th>InvoiceNo</th>\n",
       "      <th>StockCode</th>\n",
       "      <th>Description</th>\n",
       "      <th>Quantity</th>\n",
       "      <th>InvoiceDate</th>\n",
       "      <th>UnitPrice</th>\n",
       "      <th>CustomerID</th>\n",
       "      <th>Country</th>\n",
       "      <th>Year</th>\n",
       "      <th>Month</th>\n",
       "      <th>Hour</th>\n",
       "      <th>Day</th>\n",
       "      <th>WeekDay</th>\n",
       "      <th>WeekDayCase</th>\n",
       "    </tr>\n",
       "  </thead>\n",
       "  <tbody>\n",
       "    <tr>\n",
       "      <th>0</th>\n",
       "      <td>536365</td>\n",
       "      <td>85123A</td>\n",
       "      <td>WHITE HANGING HEART T-LIGHT HOLDER</td>\n",
       "      <td>6</td>\n",
       "      <td>2010-12-01 08:26:00</td>\n",
       "      <td>2.55</td>\n",
       "      <td>17850.0</td>\n",
       "      <td>United Kingdom</td>\n",
       "      <td>2010</td>\n",
       "      <td>12</td>\n",
       "      <td>8</td>\n",
       "      <td>1</td>\n",
       "      <td>Wednesday</td>\n",
       "      <td>WeekDay</td>\n",
       "    </tr>\n",
       "    <tr>\n",
       "      <th>1</th>\n",
       "      <td>536365</td>\n",
       "      <td>71053</td>\n",
       "      <td>WHITE METAL LANTERN</td>\n",
       "      <td>6</td>\n",
       "      <td>2010-12-01 08:26:00</td>\n",
       "      <td>3.39</td>\n",
       "      <td>17850.0</td>\n",
       "      <td>United Kingdom</td>\n",
       "      <td>2010</td>\n",
       "      <td>12</td>\n",
       "      <td>8</td>\n",
       "      <td>1</td>\n",
       "      <td>Wednesday</td>\n",
       "      <td>WeekDay</td>\n",
       "    </tr>\n",
       "    <tr>\n",
       "      <th>2</th>\n",
       "      <td>536365</td>\n",
       "      <td>84406B</td>\n",
       "      <td>CREAM CUPID HEARTS COAT HANGER</td>\n",
       "      <td>8</td>\n",
       "      <td>2010-12-01 08:26:00</td>\n",
       "      <td>2.75</td>\n",
       "      <td>17850.0</td>\n",
       "      <td>United Kingdom</td>\n",
       "      <td>2010</td>\n",
       "      <td>12</td>\n",
       "      <td>8</td>\n",
       "      <td>1</td>\n",
       "      <td>Wednesday</td>\n",
       "      <td>WeekDay</td>\n",
       "    </tr>\n",
       "    <tr>\n",
       "      <th>3</th>\n",
       "      <td>536365</td>\n",
       "      <td>84029G</td>\n",
       "      <td>KNITTED UNION FLAG HOT WATER BOTTLE</td>\n",
       "      <td>6</td>\n",
       "      <td>2010-12-01 08:26:00</td>\n",
       "      <td>3.39</td>\n",
       "      <td>17850.0</td>\n",
       "      <td>United Kingdom</td>\n",
       "      <td>2010</td>\n",
       "      <td>12</td>\n",
       "      <td>8</td>\n",
       "      <td>1</td>\n",
       "      <td>Wednesday</td>\n",
       "      <td>WeekDay</td>\n",
       "    </tr>\n",
       "    <tr>\n",
       "      <th>4</th>\n",
       "      <td>536365</td>\n",
       "      <td>84029E</td>\n",
       "      <td>RED WOOLLY HOTTIE WHITE HEART.</td>\n",
       "      <td>6</td>\n",
       "      <td>2010-12-01 08:26:00</td>\n",
       "      <td>3.39</td>\n",
       "      <td>17850.0</td>\n",
       "      <td>United Kingdom</td>\n",
       "      <td>2010</td>\n",
       "      <td>12</td>\n",
       "      <td>8</td>\n",
       "      <td>1</td>\n",
       "      <td>Wednesday</td>\n",
       "      <td>WeekDay</td>\n",
       "    </tr>\n",
       "  </tbody>\n",
       "</table>\n",
       "</div>"
      ],
      "text/plain": [
       "  InvoiceNo StockCode                          Description  Quantity  \\\n",
       "0    536365    85123A   WHITE HANGING HEART T-LIGHT HOLDER         6   \n",
       "1    536365     71053                  WHITE METAL LANTERN         6   \n",
       "2    536365    84406B       CREAM CUPID HEARTS COAT HANGER         8   \n",
       "3    536365    84029G  KNITTED UNION FLAG HOT WATER BOTTLE         6   \n",
       "4    536365    84029E       RED WOOLLY HOTTIE WHITE HEART.         6   \n",
       "\n",
       "          InvoiceDate  UnitPrice  CustomerID         Country  Year  Month  \\\n",
       "0 2010-12-01 08:26:00       2.55     17850.0  United Kingdom  2010     12   \n",
       "1 2010-12-01 08:26:00       3.39     17850.0  United Kingdom  2010     12   \n",
       "2 2010-12-01 08:26:00       2.75     17850.0  United Kingdom  2010     12   \n",
       "3 2010-12-01 08:26:00       3.39     17850.0  United Kingdom  2010     12   \n",
       "4 2010-12-01 08:26:00       3.39     17850.0  United Kingdom  2010     12   \n",
       "\n",
       "   Hour  Day    WeekDay WeekDayCase  \n",
       "0     8    1  Wednesday     WeekDay  \n",
       "1     8    1  Wednesday     WeekDay  \n",
       "2     8    1  Wednesday     WeekDay  \n",
       "3     8    1  Wednesday     WeekDay  \n",
       "4     8    1  Wednesday     WeekDay  "
      ]
     },
     "execution_count": 30,
     "metadata": {},
     "output_type": "execute_result"
    }
   ],
   "source": [
    "df.head()"
   ]
  },
  {
   "cell_type": "code",
   "execution_count": 31,
   "id": "92ceb8b6",
   "metadata": {},
   "outputs": [],
   "source": [
    "def DayPart(H) :\n",
    "    \n",
    "    if H <6 : \n",
    "        return 'Early Morning'\n",
    "    elif H< 12 : \n",
    "        return 'Morning'\n",
    "    elif  H< 15 : \n",
    "        return 'Noon'\n",
    "    elif H< 19 : \n",
    "        return 'Evening'\n",
    "    else : \n",
    "        return 'Night'"
   ]
  },
  {
   "cell_type": "code",
   "execution_count": 32,
   "id": "0f8f5cba",
   "metadata": {},
   "outputs": [],
   "source": [
    "df['DayPart'] = df['Hour'].apply(lambda x : DayPart(int(x)))"
   ]
  },
  {
   "cell_type": "code",
   "execution_count": 33,
   "id": "be339504",
   "metadata": {},
   "outputs": [
    {
     "data": {
      "text/plain": [
       "Noon       190458\n",
       "Morning    119909\n",
       "Evening     86967\n",
       "Night        4270\n",
       "Name: DayPart, dtype: int64"
      ]
     },
     "execution_count": 33,
     "metadata": {},
     "output_type": "execute_result"
    }
   ],
   "source": [
    "df['DayPart'].value_counts()"
   ]
  },
  {
   "cell_type": "code",
   "execution_count": 34,
   "id": "538b4c82",
   "metadata": {},
   "outputs": [
    {
     "data": {
      "text/html": [
       "<div>\n",
       "<style scoped>\n",
       "    .dataframe tbody tr th:only-of-type {\n",
       "        vertical-align: middle;\n",
       "    }\n",
       "\n",
       "    .dataframe tbody tr th {\n",
       "        vertical-align: top;\n",
       "    }\n",
       "\n",
       "    .dataframe thead th {\n",
       "        text-align: right;\n",
       "    }\n",
       "</style>\n",
       "<table border=\"1\" class=\"dataframe\">\n",
       "  <thead>\n",
       "    <tr style=\"text-align: right;\">\n",
       "      <th></th>\n",
       "      <th>InvoiceNo</th>\n",
       "      <th>StockCode</th>\n",
       "      <th>Description</th>\n",
       "      <th>Quantity</th>\n",
       "      <th>InvoiceDate</th>\n",
       "      <th>UnitPrice</th>\n",
       "      <th>CustomerID</th>\n",
       "      <th>Country</th>\n",
       "      <th>Year</th>\n",
       "      <th>Month</th>\n",
       "      <th>Hour</th>\n",
       "      <th>Day</th>\n",
       "      <th>WeekDay</th>\n",
       "      <th>WeekDayCase</th>\n",
       "      <th>DayPart</th>\n",
       "      <th>Valor_Total</th>\n",
       "    </tr>\n",
       "  </thead>\n",
       "  <tbody>\n",
       "    <tr>\n",
       "      <th>0</th>\n",
       "      <td>536365</td>\n",
       "      <td>85123A</td>\n",
       "      <td>WHITE HANGING HEART T-LIGHT HOLDER</td>\n",
       "      <td>6</td>\n",
       "      <td>2010-12-01 08:26:00</td>\n",
       "      <td>2.55</td>\n",
       "      <td>17850.0</td>\n",
       "      <td>United Kingdom</td>\n",
       "      <td>2010</td>\n",
       "      <td>12</td>\n",
       "      <td>8</td>\n",
       "      <td>1</td>\n",
       "      <td>Wednesday</td>\n",
       "      <td>WeekDay</td>\n",
       "      <td>Morning</td>\n",
       "      <td>15.30</td>\n",
       "    </tr>\n",
       "    <tr>\n",
       "      <th>1</th>\n",
       "      <td>536365</td>\n",
       "      <td>71053</td>\n",
       "      <td>WHITE METAL LANTERN</td>\n",
       "      <td>6</td>\n",
       "      <td>2010-12-01 08:26:00</td>\n",
       "      <td>3.39</td>\n",
       "      <td>17850.0</td>\n",
       "      <td>United Kingdom</td>\n",
       "      <td>2010</td>\n",
       "      <td>12</td>\n",
       "      <td>8</td>\n",
       "      <td>1</td>\n",
       "      <td>Wednesday</td>\n",
       "      <td>WeekDay</td>\n",
       "      <td>Morning</td>\n",
       "      <td>20.34</td>\n",
       "    </tr>\n",
       "    <tr>\n",
       "      <th>2</th>\n",
       "      <td>536365</td>\n",
       "      <td>84406B</td>\n",
       "      <td>CREAM CUPID HEARTS COAT HANGER</td>\n",
       "      <td>8</td>\n",
       "      <td>2010-12-01 08:26:00</td>\n",
       "      <td>2.75</td>\n",
       "      <td>17850.0</td>\n",
       "      <td>United Kingdom</td>\n",
       "      <td>2010</td>\n",
       "      <td>12</td>\n",
       "      <td>8</td>\n",
       "      <td>1</td>\n",
       "      <td>Wednesday</td>\n",
       "      <td>WeekDay</td>\n",
       "      <td>Morning</td>\n",
       "      <td>22.00</td>\n",
       "    </tr>\n",
       "    <tr>\n",
       "      <th>3</th>\n",
       "      <td>536365</td>\n",
       "      <td>84029G</td>\n",
       "      <td>KNITTED UNION FLAG HOT WATER BOTTLE</td>\n",
       "      <td>6</td>\n",
       "      <td>2010-12-01 08:26:00</td>\n",
       "      <td>3.39</td>\n",
       "      <td>17850.0</td>\n",
       "      <td>United Kingdom</td>\n",
       "      <td>2010</td>\n",
       "      <td>12</td>\n",
       "      <td>8</td>\n",
       "      <td>1</td>\n",
       "      <td>Wednesday</td>\n",
       "      <td>WeekDay</td>\n",
       "      <td>Morning</td>\n",
       "      <td>20.34</td>\n",
       "    </tr>\n",
       "    <tr>\n",
       "      <th>4</th>\n",
       "      <td>536365</td>\n",
       "      <td>84029E</td>\n",
       "      <td>RED WOOLLY HOTTIE WHITE HEART.</td>\n",
       "      <td>6</td>\n",
       "      <td>2010-12-01 08:26:00</td>\n",
       "      <td>3.39</td>\n",
       "      <td>17850.0</td>\n",
       "      <td>United Kingdom</td>\n",
       "      <td>2010</td>\n",
       "      <td>12</td>\n",
       "      <td>8</td>\n",
       "      <td>1</td>\n",
       "      <td>Wednesday</td>\n",
       "      <td>WeekDay</td>\n",
       "      <td>Morning</td>\n",
       "      <td>20.34</td>\n",
       "    </tr>\n",
       "  </tbody>\n",
       "</table>\n",
       "</div>"
      ],
      "text/plain": [
       "  InvoiceNo StockCode                          Description  Quantity  \\\n",
       "0    536365    85123A   WHITE HANGING HEART T-LIGHT HOLDER         6   \n",
       "1    536365     71053                  WHITE METAL LANTERN         6   \n",
       "2    536365    84406B       CREAM CUPID HEARTS COAT HANGER         8   \n",
       "3    536365    84029G  KNITTED UNION FLAG HOT WATER BOTTLE         6   \n",
       "4    536365    84029E       RED WOOLLY HOTTIE WHITE HEART.         6   \n",
       "\n",
       "          InvoiceDate  UnitPrice  CustomerID         Country  Year  Month  \\\n",
       "0 2010-12-01 08:26:00       2.55     17850.0  United Kingdom  2010     12   \n",
       "1 2010-12-01 08:26:00       3.39     17850.0  United Kingdom  2010     12   \n",
       "2 2010-12-01 08:26:00       2.75     17850.0  United Kingdom  2010     12   \n",
       "3 2010-12-01 08:26:00       3.39     17850.0  United Kingdom  2010     12   \n",
       "4 2010-12-01 08:26:00       3.39     17850.0  United Kingdom  2010     12   \n",
       "\n",
       "   Hour  Day    WeekDay WeekDayCase  DayPart  Valor_Total  \n",
       "0     8    1  Wednesday     WeekDay  Morning        15.30  \n",
       "1     8    1  Wednesday     WeekDay  Morning        20.34  \n",
       "2     8    1  Wednesday     WeekDay  Morning        22.00  \n",
       "3     8    1  Wednesday     WeekDay  Morning        20.34  \n",
       "4     8    1  Wednesday     WeekDay  Morning        20.34  "
      ]
     },
     "execution_count": 34,
     "metadata": {},
     "output_type": "execute_result"
    }
   ],
   "source": [
    "df[\"Valor_Total\"]=df[\"Quantity\"]*df[\"UnitPrice\"]\n",
    "df.head()"
   ]
  },
  {
   "cell_type": "code",
   "execution_count": 35,
   "id": "0eaeed9f",
   "metadata": {},
   "outputs": [
    {
     "data": {
      "text/html": [
       "<div>\n",
       "<style scoped>\n",
       "    .dataframe tbody tr th:only-of-type {\n",
       "        vertical-align: middle;\n",
       "    }\n",
       "\n",
       "    .dataframe tbody tr th {\n",
       "        vertical-align: top;\n",
       "    }\n",
       "\n",
       "    .dataframe thead th {\n",
       "        text-align: right;\n",
       "    }\n",
       "</style>\n",
       "<table border=\"1\" class=\"dataframe\">\n",
       "  <thead>\n",
       "    <tr style=\"text-align: right;\">\n",
       "      <th></th>\n",
       "      <th>InvoiceNo</th>\n",
       "      <th>StockCode</th>\n",
       "      <th>Description</th>\n",
       "      <th>Quantity</th>\n",
       "      <th>InvoiceDate</th>\n",
       "      <th>UnitPrice</th>\n",
       "      <th>CustomerID</th>\n",
       "      <th>Country</th>\n",
       "      <th>Year</th>\n",
       "      <th>Month</th>\n",
       "      <th>Hour</th>\n",
       "      <th>Day</th>\n",
       "      <th>WeekDay</th>\n",
       "      <th>WeekDayCase</th>\n",
       "      <th>DayPart</th>\n",
       "      <th>Valor_Total</th>\n",
       "    </tr>\n",
       "  </thead>\n",
       "  <tbody>\n",
       "    <tr>\n",
       "      <th>0</th>\n",
       "      <td>536365</td>\n",
       "      <td>85123A</td>\n",
       "      <td>WHITE HANGING HEART T-LIGHT HOLDER</td>\n",
       "      <td>6</td>\n",
       "      <td>2010-12-01 08:26:00</td>\n",
       "      <td>2.55</td>\n",
       "      <td>17850.0</td>\n",
       "      <td>United Kingdom</td>\n",
       "      <td>2010</td>\n",
       "      <td>12</td>\n",
       "      <td>8</td>\n",
       "      <td>1</td>\n",
       "      <td>Wednesday</td>\n",
       "      <td>WeekDay</td>\n",
       "      <td>Morning</td>\n",
       "      <td>15.30</td>\n",
       "    </tr>\n",
       "    <tr>\n",
       "      <th>1</th>\n",
       "      <td>536365</td>\n",
       "      <td>71053</td>\n",
       "      <td>WHITE METAL LANTERN</td>\n",
       "      <td>6</td>\n",
       "      <td>2010-12-01 08:26:00</td>\n",
       "      <td>3.39</td>\n",
       "      <td>17850.0</td>\n",
       "      <td>United Kingdom</td>\n",
       "      <td>2010</td>\n",
       "      <td>12</td>\n",
       "      <td>8</td>\n",
       "      <td>1</td>\n",
       "      <td>Wednesday</td>\n",
       "      <td>WeekDay</td>\n",
       "      <td>Morning</td>\n",
       "      <td>20.34</td>\n",
       "    </tr>\n",
       "    <tr>\n",
       "      <th>2</th>\n",
       "      <td>536365</td>\n",
       "      <td>84406B</td>\n",
       "      <td>CREAM CUPID HEARTS COAT HANGER</td>\n",
       "      <td>8</td>\n",
       "      <td>2010-12-01 08:26:00</td>\n",
       "      <td>2.75</td>\n",
       "      <td>17850.0</td>\n",
       "      <td>United Kingdom</td>\n",
       "      <td>2010</td>\n",
       "      <td>12</td>\n",
       "      <td>8</td>\n",
       "      <td>1</td>\n",
       "      <td>Wednesday</td>\n",
       "      <td>WeekDay</td>\n",
       "      <td>Morning</td>\n",
       "      <td>22.00</td>\n",
       "    </tr>\n",
       "  </tbody>\n",
       "</table>\n",
       "</div>"
      ],
      "text/plain": [
       "  InvoiceNo StockCode                         Description  Quantity  \\\n",
       "0    536365    85123A  WHITE HANGING HEART T-LIGHT HOLDER         6   \n",
       "1    536365     71053                 WHITE METAL LANTERN         6   \n",
       "2    536365    84406B      CREAM CUPID HEARTS COAT HANGER         8   \n",
       "\n",
       "          InvoiceDate  UnitPrice  CustomerID         Country  Year  Month  \\\n",
       "0 2010-12-01 08:26:00       2.55     17850.0  United Kingdom  2010     12   \n",
       "1 2010-12-01 08:26:00       3.39     17850.0  United Kingdom  2010     12   \n",
       "2 2010-12-01 08:26:00       2.75     17850.0  United Kingdom  2010     12   \n",
       "\n",
       "   Hour  Day    WeekDay WeekDayCase  DayPart  Valor_Total  \n",
       "0     8    1  Wednesday     WeekDay  Morning        15.30  \n",
       "1     8    1  Wednesday     WeekDay  Morning        20.34  \n",
       "2     8    1  Wednesday     WeekDay  Morning        22.00  "
      ]
     },
     "execution_count": 35,
     "metadata": {},
     "output_type": "execute_result"
    }
   ],
   "source": [
    "df.head(3)"
   ]
  },
  {
   "cell_type": "markdown",
   "id": "121887b6",
   "metadata": {},
   "source": [
    "# Gráfico 1: \"Histogramas\"\n",
    "\n",
    "* En una primera instancia, podemos ver que la columna Quantity tiene tanto valores positivos como negativos. \n",
    "* Los valores negativos hacen referencia a devoluciones, los positivos a lo que compran.\n",
    "* Aquellos Precios negativos, son deudas que tiene el cliente, que de igual manera se eliminaran al tener datos nulos y los Precios iguales a 0 nose que son. \n",
    "* Al no saber que significa que el precio unitario sea de 0, se ocupara solo la data con aquellos precios mayores a 0."
   ]
  },
  {
   "cell_type": "code",
   "execution_count": 36,
   "id": "1f8fa230",
   "metadata": {},
   "outputs": [],
   "source": [
    "df=df[df[\"UnitPrice\"]>=0]"
   ]
  },
  {
   "cell_type": "code",
   "execution_count": 37,
   "id": "26a1f9f4",
   "metadata": {},
   "outputs": [
    {
     "data": {
      "text/plain": [
       "Text(0, 0.5, 'Frecuencia')"
      ]
     },
     "execution_count": 37,
     "metadata": {},
     "output_type": "execute_result"
    },
    {
     "data": {
      "image/png": "[encoded data removed]",
      "text/plain": [
       "<Figure size 800x550 with 2 Axes>"
      ]
     },
     "metadata": {},
     "output_type": "display_data"
    }
   ],
   "source": [
    "plt.style.use('seaborn')\n",
    "fig = plt.figure(dpi=100)\n",
    "plt.subplots_adjust(top = 0.59, bottom=0.01, hspace=1.5, wspace=0.4)\n",
    "\n",
    "ax1 = fig.add_subplot(1,2,1)\n",
    "ax1=df['Quantity'].hist(bins = 30,edgecolor='black',color=\"red\")\n",
    "plt.ticklabel_format(useOffset=False, style='plain')\n",
    "ax1.set_xlabel('Quantity')\n",
    "ax1.set_ylabel(\"Frecuencia\")\n",
    "\n",
    "ax2=fig.add_subplot(1,2,2)\n",
    "ax2=df['UnitPrice'].hist(bins = 30,edgecolor='red',color=\"blue\")\n",
    "plt.ticklabel_format(useOffset=False, style='plain')\n",
    "ax2.set_xlabel(\"Precio Unitario\")\n",
    "ax2.set_ylabel(\"Frecuencia\")"
   ]
  },
  {
   "cell_type": "markdown",
   "id": "ae7b93e4",
   "metadata": {},
   "source": [
    "# Gráfico 2: \"Top 20 mejores Clientes y paises\""
   ]
  },
  {
   "cell_type": "code",
   "execution_count": 38,
   "id": "ced66cb3",
   "metadata": {},
   "outputs": [
    {
     "data": {
      "text/plain": [
       "CustomerID\n",
       "14646.0    279489.02\n",
       "18102.0    256438.49\n",
       "17450.0    187322.17\n",
       "14911.0    132458.73\n",
       "12415.0    123725.45\n",
       "14156.0    113214.59\n",
       "17511.0     88125.38\n",
       "16684.0     65892.08\n",
       "13694.0     62690.54\n",
       "15311.0     59284.19\n",
       "13089.0     57322.13\n",
       "14096.0     57120.91\n",
       "15061.0     54228.74\n",
       "16029.0     53168.69\n",
       "17949.0     52750.84\n",
       "15769.0     51823.72\n",
       "14298.0     50862.44\n",
       "14088.0     50415.49\n",
       "17841.0     39869.05\n",
       "13798.0     36352.87\n",
       "Name: Valor_Total, dtype: float64"
      ]
     },
     "execution_count": 38,
     "metadata": {},
     "output_type": "execute_result"
    }
   ],
   "source": [
    "best_client=df.groupby(\"CustomerID\")[\"Valor_Total\"].sum().sort_values(ascending=False).head(20)\n",
    "best_client"
   ]
  },
  {
   "cell_type": "code",
   "execution_count": 39,
   "id": "79b569ce",
   "metadata": {},
   "outputs": [
    {
     "data": {
      "image/png": "[encoded data removed]",
      "text/plain": [
       "<Figure size 576x396 with 1 Axes>"
      ]
     },
     "metadata": {},
     "output_type": "display_data"
    }
   ],
   "source": [
    "sns.barplot(best_client.index, best_client.values);\n",
    "plt.grid();\n",
    "plt.xlabel(\"Clientes\",fontsize = 25)\n",
    "plt.ylabel(\"Valor_total\",fontsize = 25)\n",
    "plt.title(\"Top 20 clientes\",fontsize = 25)\n",
    "plt.xticks(rotation = 90);\n",
    "plt.xticks(fontsize = 15);\n",
    "plt.yticks(fontsize = 15);"
   ]
  },
  {
   "cell_type": "code",
   "execution_count": 40,
   "id": "f8957e3b",
   "metadata": {},
   "outputs": [
    {
     "data": {
      "text/plain": [
       "CustomerID\n",
       "17448.0   -4287.63\n",
       "15369.0   -1592.49\n",
       "14213.0   -1192.20\n",
       "17603.0   -1165.30\n",
       "12503.0   -1126.00\n",
       "15823.0    -840.76\n",
       "13154.0    -611.86\n",
       "15802.0    -451.42\n",
       "16252.0    -295.09\n",
       "12666.0    -227.44\n",
       "17307.0    -152.64\n",
       "17548.0    -141.48\n",
       "15728.0    -134.80\n",
       "17065.0    -112.35\n",
       "13958.0    -102.45\n",
       "13829.0    -102.00\n",
       "16546.0     -95.93\n",
       "15638.0     -94.00\n",
       "13672.0     -71.46\n",
       "18256.0     -50.10\n",
       "Name: Valor_Total, dtype: float64"
      ]
     },
     "execution_count": 40,
     "metadata": {},
     "output_type": "execute_result"
    }
   ],
   "source": [
    "devol_client=df.groupby(\"CustomerID\")[\"Valor_Total\"].sum().sort_values(ascending=True).head(20)\n",
    "devol_client"
   ]
  },
  {
   "cell_type": "code",
   "execution_count": 41,
   "id": "f6145865",
   "metadata": {},
   "outputs": [
    {
     "data": {
      "image/png": "[encoded data removed]",
      "text/plain": [
       "<Figure size 576x396 with 1 Axes>"
      ]
     },
     "metadata": {},
     "output_type": "display_data"
    }
   ],
   "source": [
    "sns.barplot(devol_client.index, (devol_client.abs()));\n",
    "plt.grid();\n",
    "plt.xlabel(\"Clientes\",fontsize = 25)\n",
    "plt.ylabel(\"Valor_total\",fontsize = 25)\n",
    "plt.title(\"Top 20 devolución clientes\",fontsize = 25)\n",
    "plt.xticks(rotation = 90);\n",
    "plt.xticks(fontsize = 15);\n",
    "plt.yticks(fontsize = 15);"
   ]
  },
  {
   "cell_type": "markdown",
   "id": "5eeb75e4",
   "metadata": {},
   "source": [
    "#  Gráfico 3: \"Top 10 paises con mas clientes e Ingresos\""
   ]
  },
  {
   "cell_type": "code",
   "execution_count": 44,
   "id": "d008d674",
   "metadata": {},
   "outputs": [
    {
     "data": {
      "text/plain": [
       "CustomerID\n",
       "17841.0       7812\n",
       "14911.0       5898\n",
       "14096.0       5128\n",
       "12748.0       4459\n",
       "14606.0       2759\n",
       "              ... \n",
       "16323.0          1\n",
       "13302.0          1\n",
       "16428.0          1\n",
       "13270.0          1\n",
       "13307.0          1\n",
       "Length: 4372, dtype: int64"
      ]
     },
     "execution_count": 44,
     "metadata": {},
     "output_type": "execute_result"
    }
   ],
   "source": [
    "df[[\"CustomerID\"]].value_counts()"
   ]
  },
  {
   "cell_type": "code",
   "execution_count": 45,
   "id": "8ae4affa",
   "metadata": {},
   "outputs": [
    {
     "data": {
      "text/plain": [
       "Country\n",
       "United Kingdom    3950\n",
       "Germany             95\n",
       "France              87\n",
       "Spain               31\n",
       "Belgium             25\n",
       "Switzerland         21\n",
       "Portugal            19\n",
       "Italy               15\n",
       "Finland             12\n",
       "Austria             11\n",
       "Name: CustomerID, dtype: int64"
      ]
     },
     "execution_count": 45,
     "metadata": {},
     "output_type": "execute_result"
    }
   ],
   "source": [
    "clientxpais=df.groupby(\"Country\")[\"CustomerID\"].nunique().sort_values(ascending=False).head(10)\n",
    "clientxpais"
   ]
  },
  {
   "cell_type": "code",
   "execution_count": 46,
   "id": "901126bf",
   "metadata": {},
   "outputs": [
    {
     "data": {
      "image/png": "[encoded data removed]",
      "text/plain": [
       "<Figure size 800x550 with 1 Axes>"
      ]
     },
     "metadata": {},
     "output_type": "display_data"
    }
   ],
   "source": [
    "import matplotlib.pyplot as plt\n",
    "\n",
    "#Gráfico de torta; cortes ordenados y gráficados contra reloj.\n",
    "size = clientxpais.values\n",
    "etiquetas = clientxpais.index\n",
    "#explotar = [0, 0, 0.1, 0] #sirve para destacar alguna porcion. El valor es cuanto se separa de la torta.\n",
    "\n",
    "fig1 = plt.figure(dpi=100)\n",
    "ax1 = fig1.add_subplot(1,1,1) \n",
    "\n",
    "ax1.pie(size, labels=etiquetas, autopct=\"%.2f%%\", shadow = False, startangle=-90)\n",
    "# autopct = porcentaje automático; shadow = grafico con sombra; startangle = ángulo de inicio\n",
    "# %.2f%% formato de decimal, viene del lenguaje C. Sí, python está escrito en C.\n",
    "\n",
    "ax1.axis(\"equal\") #asegura proporcion igualitaria, vale decir, suma de porcentajes 100% (círculo)\n",
    "\n",
    "plt.show()"
   ]
  },
  {
   "cell_type": "code",
   "execution_count": 47,
   "id": "b443c9f6",
   "metadata": {},
   "outputs": [
    {
     "data": {
      "text/plain": [
       "Country\n",
       "United Kingdom    6747156.154\n",
       "Netherlands        284661.540\n",
       "EIRE               250001.780\n",
       "Germany            221509.470\n",
       "France             196626.050\n",
       "Australia          137009.770\n",
       "Switzerland         55739.400\n",
       "Spain               54756.030\n",
       "Belgium             40910.960\n",
       "Sweden              36585.410\n",
       "Name: Valor_Total, dtype: float64"
      ]
     },
     "execution_count": 47,
     "metadata": {},
     "output_type": "execute_result"
    }
   ],
   "source": [
    "best_country=df.groupby(\"Country\")[\"Valor_Total\"].sum().sort_values(ascending=False).head(10)\n",
    "best_country"
   ]
  },
  {
   "cell_type": "code",
   "execution_count": 49,
   "id": "da7d392b",
   "metadata": {
    "scrolled": true
   },
   "outputs": [
    {
     "data": {
      "image/png": "[encoded data removed]",
      "text/plain": [
       "<Figure size 576x396 with 1 Axes>"
      ]
     },
     "metadata": {},
     "output_type": "display_data"
    }
   ],
   "source": [
    "plt.plot(best_country.index,best_country.values, label = \"Valor_total\",c = 'magenta', marker = '.', markersize = 20);\n",
    "plt.legend(loc=(1.02,0))\n",
    "plt.xlabel(\"Paises\",fontsize=15);\n",
    "plt.ylabel(\"Valor_total\",fontsize=15);\n",
    "plt.title(\"Top 10 mejores paises por Valor_total\",fontsize=25);  \n",
    "plt.xticks(rotation = 90);"
   ]
  },
  {
   "cell_type": "markdown",
   "id": "0d912f0f",
   "metadata": {},
   "source": [
    "# Creando nueva data con solo Clientes Unicos"
   ]
  },
  {
   "cell_type": "code",
   "execution_count": 50,
   "id": "7798c50e",
   "metadata": {},
   "outputs": [
    {
     "data": {
      "text/plain": [
       "Timestamp('2011-12-09 12:50:00')"
      ]
     },
     "execution_count": 50,
     "metadata": {},
     "output_type": "execute_result"
    }
   ],
   "source": [
    "max_date = max(df['InvoiceDate'])\n",
    "max_date"
   ]
  },
  {
   "cell_type": "code",
   "execution_count": 51,
   "id": "e2123a26",
   "metadata": {},
   "outputs": [
    {
     "data": {
      "text/html": [
       "<div>\n",
       "<style scoped>\n",
       "    .dataframe tbody tr th:only-of-type {\n",
       "        vertical-align: middle;\n",
       "    }\n",
       "\n",
       "    .dataframe tbody tr th {\n",
       "        vertical-align: top;\n",
       "    }\n",
       "\n",
       "    .dataframe thead th {\n",
       "        text-align: right;\n",
       "    }\n",
       "</style>\n",
       "<table border=\"1\" class=\"dataframe\">\n",
       "  <thead>\n",
       "    <tr style=\"text-align: right;\">\n",
       "      <th></th>\n",
       "      <th>InvoiceNo</th>\n",
       "      <th>StockCode</th>\n",
       "      <th>Description</th>\n",
       "      <th>Quantity</th>\n",
       "      <th>InvoiceDate</th>\n",
       "      <th>UnitPrice</th>\n",
       "      <th>CustomerID</th>\n",
       "      <th>Country</th>\n",
       "      <th>Year</th>\n",
       "      <th>Month</th>\n",
       "      <th>Hour</th>\n",
       "      <th>Day</th>\n",
       "      <th>WeekDay</th>\n",
       "      <th>WeekDayCase</th>\n",
       "      <th>DayPart</th>\n",
       "      <th>Valor_Total</th>\n",
       "      <th>Diff</th>\n",
       "    </tr>\n",
       "  </thead>\n",
       "  <tbody>\n",
       "    <tr>\n",
       "      <th>0</th>\n",
       "      <td>536365</td>\n",
       "      <td>85123A</td>\n",
       "      <td>WHITE HANGING HEART T-LIGHT HOLDER</td>\n",
       "      <td>6</td>\n",
       "      <td>2010-12-01 08:26:00</td>\n",
       "      <td>2.55</td>\n",
       "      <td>17850.0</td>\n",
       "      <td>United Kingdom</td>\n",
       "      <td>2010</td>\n",
       "      <td>12</td>\n",
       "      <td>8</td>\n",
       "      <td>1</td>\n",
       "      <td>Wednesday</td>\n",
       "      <td>WeekDay</td>\n",
       "      <td>Morning</td>\n",
       "      <td>15.30</td>\n",
       "      <td>373 days 04:24:00</td>\n",
       "    </tr>\n",
       "    <tr>\n",
       "      <th>1</th>\n",
       "      <td>536365</td>\n",
       "      <td>71053</td>\n",
       "      <td>WHITE METAL LANTERN</td>\n",
       "      <td>6</td>\n",
       "      <td>2010-12-01 08:26:00</td>\n",
       "      <td>3.39</td>\n",
       "      <td>17850.0</td>\n",
       "      <td>United Kingdom</td>\n",
       "      <td>2010</td>\n",
       "      <td>12</td>\n",
       "      <td>8</td>\n",
       "      <td>1</td>\n",
       "      <td>Wednesday</td>\n",
       "      <td>WeekDay</td>\n",
       "      <td>Morning</td>\n",
       "      <td>20.34</td>\n",
       "      <td>373 days 04:24:00</td>\n",
       "    </tr>\n",
       "    <tr>\n",
       "      <th>2</th>\n",
       "      <td>536365</td>\n",
       "      <td>84406B</td>\n",
       "      <td>CREAM CUPID HEARTS COAT HANGER</td>\n",
       "      <td>8</td>\n",
       "      <td>2010-12-01 08:26:00</td>\n",
       "      <td>2.75</td>\n",
       "      <td>17850.0</td>\n",
       "      <td>United Kingdom</td>\n",
       "      <td>2010</td>\n",
       "      <td>12</td>\n",
       "      <td>8</td>\n",
       "      <td>1</td>\n",
       "      <td>Wednesday</td>\n",
       "      <td>WeekDay</td>\n",
       "      <td>Morning</td>\n",
       "      <td>22.00</td>\n",
       "      <td>373 days 04:24:00</td>\n",
       "    </tr>\n",
       "    <tr>\n",
       "      <th>3</th>\n",
       "      <td>536365</td>\n",
       "      <td>84029G</td>\n",
       "      <td>KNITTED UNION FLAG HOT WATER BOTTLE</td>\n",
       "      <td>6</td>\n",
       "      <td>2010-12-01 08:26:00</td>\n",
       "      <td>3.39</td>\n",
       "      <td>17850.0</td>\n",
       "      <td>United Kingdom</td>\n",
       "      <td>2010</td>\n",
       "      <td>12</td>\n",
       "      <td>8</td>\n",
       "      <td>1</td>\n",
       "      <td>Wednesday</td>\n",
       "      <td>WeekDay</td>\n",
       "      <td>Morning</td>\n",
       "      <td>20.34</td>\n",
       "      <td>373 days 04:24:00</td>\n",
       "    </tr>\n",
       "    <tr>\n",
       "      <th>4</th>\n",
       "      <td>536365</td>\n",
       "      <td>84029E</td>\n",
       "      <td>RED WOOLLY HOTTIE WHITE HEART.</td>\n",
       "      <td>6</td>\n",
       "      <td>2010-12-01 08:26:00</td>\n",
       "      <td>3.39</td>\n",
       "      <td>17850.0</td>\n",
       "      <td>United Kingdom</td>\n",
       "      <td>2010</td>\n",
       "      <td>12</td>\n",
       "      <td>8</td>\n",
       "      <td>1</td>\n",
       "      <td>Wednesday</td>\n",
       "      <td>WeekDay</td>\n",
       "      <td>Morning</td>\n",
       "      <td>20.34</td>\n",
       "      <td>373 days 04:24:00</td>\n",
       "    </tr>\n",
       "  </tbody>\n",
       "</table>\n",
       "</div>"
      ],
      "text/plain": [
       "  InvoiceNo StockCode                          Description  Quantity  \\\n",
       "0    536365    85123A   WHITE HANGING HEART T-LIGHT HOLDER         6   \n",
       "1    536365     71053                  WHITE METAL LANTERN         6   \n",
       "2    536365    84406B       CREAM CUPID HEARTS COAT HANGER         8   \n",
       "3    536365    84029G  KNITTED UNION FLAG HOT WATER BOTTLE         6   \n",
       "4    536365    84029E       RED WOOLLY HOTTIE WHITE HEART.         6   \n",
       "\n",
       "          InvoiceDate  UnitPrice  CustomerID         Country  Year  Month  \\\n",
       "0 2010-12-01 08:26:00       2.55     17850.0  United Kingdom  2010     12   \n",
       "1 2010-12-01 08:26:00       3.39     17850.0  United Kingdom  2010     12   \n",
       "2 2010-12-01 08:26:00       2.75     17850.0  United Kingdom  2010     12   \n",
       "3 2010-12-01 08:26:00       3.39     17850.0  United Kingdom  2010     12   \n",
       "4 2010-12-01 08:26:00       3.39     17850.0  United Kingdom  2010     12   \n",
       "\n",
       "   Hour  Day    WeekDay WeekDayCase  DayPart  Valor_Total              Diff  \n",
       "0     8    1  Wednesday     WeekDay  Morning        15.30 373 days 04:24:00  \n",
       "1     8    1  Wednesday     WeekDay  Morning        20.34 373 days 04:24:00  \n",
       "2     8    1  Wednesday     WeekDay  Morning        22.00 373 days 04:24:00  \n",
       "3     8    1  Wednesday     WeekDay  Morning        20.34 373 days 04:24:00  \n",
       "4     8    1  Wednesday     WeekDay  Morning        20.34 373 days 04:24:00  "
      ]
     },
     "execution_count": 51,
     "metadata": {},
     "output_type": "execute_result"
    }
   ],
   "source": [
    "df['Diff'] = max_date - df['InvoiceDate']\n",
    "df.head()"
   ]
  },
  {
   "cell_type": "code",
   "execution_count": 52,
   "id": "778e4b30",
   "metadata": {},
   "outputs": [
    {
     "data": {
      "text/html": [
       "<div>\n",
       "<style scoped>\n",
       "    .dataframe tbody tr th:only-of-type {\n",
       "        vertical-align: middle;\n",
       "    }\n",
       "\n",
       "    .dataframe tbody tr th {\n",
       "        vertical-align: top;\n",
       "    }\n",
       "\n",
       "    .dataframe thead th {\n",
       "        text-align: right;\n",
       "    }\n",
       "</style>\n",
       "<table border=\"1\" class=\"dataframe\">\n",
       "  <thead>\n",
       "    <tr style=\"text-align: right;\">\n",
       "      <th></th>\n",
       "      <th>CustomerID</th>\n",
       "      <th>Diff</th>\n",
       "    </tr>\n",
       "  </thead>\n",
       "  <tbody>\n",
       "    <tr>\n",
       "      <th>0</th>\n",
       "      <td>12346.0</td>\n",
       "      <td>325 days 02:33:00</td>\n",
       "    </tr>\n",
       "    <tr>\n",
       "      <th>1</th>\n",
       "      <td>12347.0</td>\n",
       "      <td>1 days 20:58:00</td>\n",
       "    </tr>\n",
       "    <tr>\n",
       "      <th>2</th>\n",
       "      <td>12348.0</td>\n",
       "      <td>74 days 23:37:00</td>\n",
       "    </tr>\n",
       "    <tr>\n",
       "      <th>3</th>\n",
       "      <td>12349.0</td>\n",
       "      <td>18 days 02:59:00</td>\n",
       "    </tr>\n",
       "    <tr>\n",
       "      <th>4</th>\n",
       "      <td>12350.0</td>\n",
       "      <td>309 days 20:49:00</td>\n",
       "    </tr>\n",
       "  </tbody>\n",
       "</table>\n",
       "</div>"
      ],
      "text/plain": [
       "   CustomerID              Diff\n",
       "0     12346.0 325 days 02:33:00\n",
       "1     12347.0   1 days 20:58:00\n",
       "2     12348.0  74 days 23:37:00\n",
       "3     12349.0  18 days 02:59:00\n",
       "4     12350.0 309 days 20:49:00"
      ]
     },
     "execution_count": 52,
     "metadata": {},
     "output_type": "execute_result"
    }
   ],
   "source": [
    "datedifxcliente = df.groupby('CustomerID')['Diff'].min()\n",
    "datedifxcliente= datedifxcliente.reset_index()\n",
    "datedifxcliente.head()"
   ]
  },
  {
   "cell_type": "code",
   "execution_count": 53,
   "id": "77a2f700",
   "metadata": {},
   "outputs": [
    {
     "data": {
      "text/html": [
       "<div>\n",
       "<style scoped>\n",
       "    .dataframe tbody tr th:only-of-type {\n",
       "        vertical-align: middle;\n",
       "    }\n",
       "\n",
       "    .dataframe tbody tr th {\n",
       "        vertical-align: top;\n",
       "    }\n",
       "\n",
       "    .dataframe thead th {\n",
       "        text-align: right;\n",
       "    }\n",
       "</style>\n",
       "<table border=\"1\" class=\"dataframe\">\n",
       "  <thead>\n",
       "    <tr style=\"text-align: right;\">\n",
       "      <th></th>\n",
       "      <th>CustomerID</th>\n",
       "      <th>Diff</th>\n",
       "    </tr>\n",
       "  </thead>\n",
       "  <tbody>\n",
       "    <tr>\n",
       "      <th>0</th>\n",
       "      <td>12346.0</td>\n",
       "      <td>325</td>\n",
       "    </tr>\n",
       "    <tr>\n",
       "      <th>1</th>\n",
       "      <td>12347.0</td>\n",
       "      <td>1</td>\n",
       "    </tr>\n",
       "    <tr>\n",
       "      <th>2</th>\n",
       "      <td>12348.0</td>\n",
       "      <td>74</td>\n",
       "    </tr>\n",
       "    <tr>\n",
       "      <th>3</th>\n",
       "      <td>12349.0</td>\n",
       "      <td>18</td>\n",
       "    </tr>\n",
       "    <tr>\n",
       "      <th>4</th>\n",
       "      <td>12350.0</td>\n",
       "      <td>309</td>\n",
       "    </tr>\n",
       "  </tbody>\n",
       "</table>\n",
       "</div>"
      ],
      "text/plain": [
       "   CustomerID  Diff\n",
       "0     12346.0   325\n",
       "1     12347.0     1\n",
       "2     12348.0    74\n",
       "3     12349.0    18\n",
       "4     12350.0   309"
      ]
     },
     "execution_count": 53,
     "metadata": {},
     "output_type": "execute_result"
    }
   ],
   "source": [
    "datedifxcliente['Diff'] = datedifxcliente['Diff'].dt.days\n",
    "datedifxcliente.head()"
   ]
  },
  {
   "cell_type": "code",
   "execution_count": 54,
   "id": "fe21f9aa",
   "metadata": {},
   "outputs": [
    {
     "data": {
      "text/html": [
       "<div>\n",
       "<style scoped>\n",
       "    .dataframe tbody tr th:only-of-type {\n",
       "        vertical-align: middle;\n",
       "    }\n",
       "\n",
       "    .dataframe tbody tr th {\n",
       "        vertical-align: top;\n",
       "    }\n",
       "\n",
       "    .dataframe thead th {\n",
       "        text-align: right;\n",
       "    }\n",
       "</style>\n",
       "<table border=\"1\" class=\"dataframe\">\n",
       "  <thead>\n",
       "    <tr style=\"text-align: right;\">\n",
       "      <th></th>\n",
       "      <th>CustomerID</th>\n",
       "      <th>Valor_Total</th>\n",
       "    </tr>\n",
       "  </thead>\n",
       "  <tbody>\n",
       "    <tr>\n",
       "      <th>0</th>\n",
       "      <td>12346.0</td>\n",
       "      <td>0.00</td>\n",
       "    </tr>\n",
       "    <tr>\n",
       "      <th>1</th>\n",
       "      <td>12347.0</td>\n",
       "      <td>4310.00</td>\n",
       "    </tr>\n",
       "    <tr>\n",
       "      <th>2</th>\n",
       "      <td>12348.0</td>\n",
       "      <td>1797.24</td>\n",
       "    </tr>\n",
       "    <tr>\n",
       "      <th>3</th>\n",
       "      <td>12349.0</td>\n",
       "      <td>1757.55</td>\n",
       "    </tr>\n",
       "    <tr>\n",
       "      <th>4</th>\n",
       "      <td>12350.0</td>\n",
       "      <td>334.40</td>\n",
       "    </tr>\n",
       "  </tbody>\n",
       "</table>\n",
       "</div>"
      ],
      "text/plain": [
       "   CustomerID  Valor_Total\n",
       "0     12346.0         0.00\n",
       "1     12347.0      4310.00\n",
       "2     12348.0      1797.24\n",
       "3     12349.0      1757.55\n",
       "4     12350.0       334.40"
      ]
     },
     "execution_count": 54,
     "metadata": {},
     "output_type": "execute_result"
    }
   ],
   "source": [
    "ingresoxcliente = df.groupby('CustomerID')['Valor_Total'].sum()\n",
    "ingresoxcliente = ingresoxcliente.reset_index()\n",
    "ingresoxcliente.head()"
   ]
  },
  {
   "cell_type": "code",
   "execution_count": 55,
   "id": "90442a67",
   "metadata": {},
   "outputs": [
    {
     "data": {
      "text/html": [
       "<div>\n",
       "<style scoped>\n",
       "    .dataframe tbody tr th:only-of-type {\n",
       "        vertical-align: middle;\n",
       "    }\n",
       "\n",
       "    .dataframe tbody tr th {\n",
       "        vertical-align: top;\n",
       "    }\n",
       "\n",
       "    .dataframe thead th {\n",
       "        text-align: right;\n",
       "    }\n",
       "</style>\n",
       "<table border=\"1\" class=\"dataframe\">\n",
       "  <thead>\n",
       "    <tr style=\"text-align: right;\">\n",
       "      <th></th>\n",
       "      <th>CustomerID</th>\n",
       "      <th>Frequency</th>\n",
       "    </tr>\n",
       "  </thead>\n",
       "  <tbody>\n",
       "    <tr>\n",
       "      <th>0</th>\n",
       "      <td>12346.0</td>\n",
       "      <td>2</td>\n",
       "    </tr>\n",
       "    <tr>\n",
       "      <th>1</th>\n",
       "      <td>12347.0</td>\n",
       "      <td>182</td>\n",
       "    </tr>\n",
       "    <tr>\n",
       "      <th>2</th>\n",
       "      <td>12348.0</td>\n",
       "      <td>31</td>\n",
       "    </tr>\n",
       "    <tr>\n",
       "      <th>3</th>\n",
       "      <td>12349.0</td>\n",
       "      <td>73</td>\n",
       "    </tr>\n",
       "    <tr>\n",
       "      <th>4</th>\n",
       "      <td>12350.0</td>\n",
       "      <td>17</td>\n",
       "    </tr>\n",
       "  </tbody>\n",
       "</table>\n",
       "</div>"
      ],
      "text/plain": [
       "   CustomerID  Frequency\n",
       "0     12346.0          2\n",
       "1     12347.0        182\n",
       "2     12348.0         31\n",
       "3     12349.0         73\n",
       "4     12350.0         17"
      ]
     },
     "execution_count": 55,
     "metadata": {},
     "output_type": "execute_result"
    }
   ],
   "source": [
    "facturaxcliente = df.groupby('CustomerID')['InvoiceNo'].count()\n",
    "facturaxcliente = facturaxcliente.reset_index()\n",
    "facturaxcliente.columns = ['CustomerID', 'Frequency']\n",
    "facturaxcliente.head()"
   ]
  },
  {
   "cell_type": "code",
   "execution_count": 56,
   "id": "1f3a8d60",
   "metadata": {},
   "outputs": [
    {
     "data": {
      "text/html": [
       "<div>\n",
       "<style scoped>\n",
       "    .dataframe tbody tr th:only-of-type {\n",
       "        vertical-align: middle;\n",
       "    }\n",
       "\n",
       "    .dataframe tbody tr th {\n",
       "        vertical-align: top;\n",
       "    }\n",
       "\n",
       "    .dataframe thead th {\n",
       "        text-align: right;\n",
       "    }\n",
       "</style>\n",
       "<table border=\"1\" class=\"dataframe\">\n",
       "  <thead>\n",
       "    <tr style=\"text-align: right;\">\n",
       "      <th></th>\n",
       "      <th>CustomerID</th>\n",
       "      <th>Valor_Total</th>\n",
       "      <th>Frequency</th>\n",
       "    </tr>\n",
       "  </thead>\n",
       "  <tbody>\n",
       "    <tr>\n",
       "      <th>0</th>\n",
       "      <td>12346.0</td>\n",
       "      <td>0.00</td>\n",
       "      <td>2</td>\n",
       "    </tr>\n",
       "    <tr>\n",
       "      <th>1</th>\n",
       "      <td>12347.0</td>\n",
       "      <td>4310.00</td>\n",
       "      <td>182</td>\n",
       "    </tr>\n",
       "    <tr>\n",
       "      <th>2</th>\n",
       "      <td>12348.0</td>\n",
       "      <td>1797.24</td>\n",
       "      <td>31</td>\n",
       "    </tr>\n",
       "    <tr>\n",
       "      <th>3</th>\n",
       "      <td>12349.0</td>\n",
       "      <td>1757.55</td>\n",
       "      <td>73</td>\n",
       "    </tr>\n",
       "    <tr>\n",
       "      <th>4</th>\n",
       "      <td>12350.0</td>\n",
       "      <td>334.40</td>\n",
       "      <td>17</td>\n",
       "    </tr>\n",
       "  </tbody>\n",
       "</table>\n",
       "</div>"
      ],
      "text/plain": [
       "   CustomerID  Valor_Total  Frequency\n",
       "0     12346.0         0.00          2\n",
       "1     12347.0      4310.00        182\n",
       "2     12348.0      1797.24         31\n",
       "3     12349.0      1757.55         73\n",
       "4     12350.0       334.40         17"
      ]
     },
     "execution_count": 56,
     "metadata": {},
     "output_type": "execute_result"
    }
   ],
   "source": [
    "df2 = pd.merge(ingresoxcliente, facturaxcliente, on='CustomerID', how='inner')\n",
    "df2.head()"
   ]
  },
  {
   "cell_type": "code",
   "execution_count": 57,
   "id": "fdbe501c",
   "metadata": {},
   "outputs": [
    {
     "data": {
      "text/html": [
       "<div>\n",
       "<style scoped>\n",
       "    .dataframe tbody tr th:only-of-type {\n",
       "        vertical-align: middle;\n",
       "    }\n",
       "\n",
       "    .dataframe tbody tr th {\n",
       "        vertical-align: top;\n",
       "    }\n",
       "\n",
       "    .dataframe thead th {\n",
       "        text-align: right;\n",
       "    }\n",
       "</style>\n",
       "<table border=\"1\" class=\"dataframe\">\n",
       "  <thead>\n",
       "    <tr style=\"text-align: right;\">\n",
       "      <th></th>\n",
       "      <th>CustomerID</th>\n",
       "      <th>ingresoxcliente</th>\n",
       "      <th>facturaxcliente</th>\n",
       "      <th>antiguedadcliente</th>\n",
       "    </tr>\n",
       "  </thead>\n",
       "  <tbody>\n",
       "    <tr>\n",
       "      <th>0</th>\n",
       "      <td>12346.0</td>\n",
       "      <td>0.00</td>\n",
       "      <td>2</td>\n",
       "      <td>325</td>\n",
       "    </tr>\n",
       "    <tr>\n",
       "      <th>1</th>\n",
       "      <td>12347.0</td>\n",
       "      <td>4310.00</td>\n",
       "      <td>182</td>\n",
       "      <td>1</td>\n",
       "    </tr>\n",
       "    <tr>\n",
       "      <th>2</th>\n",
       "      <td>12348.0</td>\n",
       "      <td>1797.24</td>\n",
       "      <td>31</td>\n",
       "      <td>74</td>\n",
       "    </tr>\n",
       "    <tr>\n",
       "      <th>3</th>\n",
       "      <td>12349.0</td>\n",
       "      <td>1757.55</td>\n",
       "      <td>73</td>\n",
       "      <td>18</td>\n",
       "    </tr>\n",
       "    <tr>\n",
       "      <th>4</th>\n",
       "      <td>12350.0</td>\n",
       "      <td>334.40</td>\n",
       "      <td>17</td>\n",
       "      <td>309</td>\n",
       "    </tr>\n",
       "  </tbody>\n",
       "</table>\n",
       "</div>"
      ],
      "text/plain": [
       "   CustomerID  ingresoxcliente  facturaxcliente  antiguedadcliente\n",
       "0     12346.0             0.00                2                325\n",
       "1     12347.0          4310.00              182                  1\n",
       "2     12348.0          1797.24               31                 74\n",
       "3     12349.0          1757.55               73                 18\n",
       "4     12350.0           334.40               17                309"
      ]
     },
     "execution_count": 57,
     "metadata": {},
     "output_type": "execute_result"
    }
   ],
   "source": [
    "df2 = pd.merge(df2, datedifxcliente, on='CustomerID', how='inner')\n",
    "df2.columns = ['CustomerID', 'ingresoxcliente', 'facturaxcliente', 'antiguedadcliente']\n",
    "df2.head()"
   ]
  },
  {
   "cell_type": "code",
   "execution_count": 58,
   "id": "027e07a8",
   "metadata": {},
   "outputs": [],
   "source": [
    "df2[\"Frecuencia\"]=df2[\"antiguedadcliente\"]/df2[\"facturaxcliente\"]"
   ]
  },
  {
   "cell_type": "code",
   "execution_count": 59,
   "id": "44c19824",
   "metadata": {},
   "outputs": [
    {
     "data": {
      "text/html": [
       "<div>\n",
       "<style scoped>\n",
       "    .dataframe tbody tr th:only-of-type {\n",
       "        vertical-align: middle;\n",
       "    }\n",
       "\n",
       "    .dataframe tbody tr th {\n",
       "        vertical-align: top;\n",
       "    }\n",
       "\n",
       "    .dataframe thead th {\n",
       "        text-align: right;\n",
       "    }\n",
       "</style>\n",
       "<table border=\"1\" class=\"dataframe\">\n",
       "  <thead>\n",
       "    <tr style=\"text-align: right;\">\n",
       "      <th></th>\n",
       "      <th>CustomerID</th>\n",
       "      <th>ingresoxcliente</th>\n",
       "      <th>facturaxcliente</th>\n",
       "      <th>antiguedadcliente</th>\n",
       "      <th>Frecuencia</th>\n",
       "    </tr>\n",
       "  </thead>\n",
       "  <tbody>\n",
       "    <tr>\n",
       "      <th>0</th>\n",
       "      <td>12346.0</td>\n",
       "      <td>0.00</td>\n",
       "      <td>2</td>\n",
       "      <td>325</td>\n",
       "      <td>162.500000</td>\n",
       "    </tr>\n",
       "    <tr>\n",
       "      <th>1</th>\n",
       "      <td>12347.0</td>\n",
       "      <td>4310.00</td>\n",
       "      <td>182</td>\n",
       "      <td>1</td>\n",
       "      <td>0.005495</td>\n",
       "    </tr>\n",
       "    <tr>\n",
       "      <th>2</th>\n",
       "      <td>12348.0</td>\n",
       "      <td>1797.24</td>\n",
       "      <td>31</td>\n",
       "      <td>74</td>\n",
       "      <td>2.387097</td>\n",
       "    </tr>\n",
       "    <tr>\n",
       "      <th>3</th>\n",
       "      <td>12349.0</td>\n",
       "      <td>1757.55</td>\n",
       "      <td>73</td>\n",
       "      <td>18</td>\n",
       "      <td>0.246575</td>\n",
       "    </tr>\n",
       "    <tr>\n",
       "      <th>4</th>\n",
       "      <td>12350.0</td>\n",
       "      <td>334.40</td>\n",
       "      <td>17</td>\n",
       "      <td>309</td>\n",
       "      <td>18.176471</td>\n",
       "    </tr>\n",
       "  </tbody>\n",
       "</table>\n",
       "</div>"
      ],
      "text/plain": [
       "   CustomerID  ingresoxcliente  facturaxcliente  antiguedadcliente  Frecuencia\n",
       "0     12346.0             0.00                2                325  162.500000\n",
       "1     12347.0          4310.00              182                  1    0.005495\n",
       "2     12348.0          1797.24               31                 74    2.387097\n",
       "3     12349.0          1757.55               73                 18    0.246575\n",
       "4     12350.0           334.40               17                309   18.176471"
      ]
     },
     "execution_count": 59,
     "metadata": {},
     "output_type": "execute_result"
    }
   ],
   "source": [
    "df2.head()"
   ]
  },
  {
   "cell_type": "code",
   "execution_count": 60,
   "id": "ed5c7789",
   "metadata": {},
   "outputs": [],
   "source": [
    "df2.to_csv(\"Proyecto2_final.csv\",index=False)"
   ]
  },
  {
   "cell_type": "markdown",
   "id": "dd14a7b0",
   "metadata": {},
   "source": [
    "# KMEANS"
   ]
  },
  {
   "cell_type": "code",
   "execution_count": 61,
   "id": "be90b027",
   "metadata": {},
   "outputs": [],
   "source": [
    "X=df2.drop(columns=\"CustomerID\")"
   ]
  },
  {
   "cell_type": "code",
   "execution_count": 62,
   "id": "61c408c3",
   "metadata": {
    "scrolled": true
   },
   "outputs": [
    {
     "data": {
      "text/plain": [
       "[<matplotlib.lines.Line2D at 0x173f9a71670>]"
      ]
     },
     "execution_count": 62,
     "metadata": {},
     "output_type": "execute_result"
    },
    {
     "data": {
      "image/png": "[encoded data removed]",
      "text/plain": [
       "<Figure size 576x396 with 1 Axes>"
      ]
     },
     "metadata": {},
     "output_type": "display_data"
    }
   ],
   "source": [
    "score = []\n",
    "k_clusters = range(1,20)\n",
    "for k in k_clusters:\n",
    "    kmeans = KMeans(n_clusters=k)\n",
    "    kmeans.fit(X)\n",
    "    score.append(-kmeans.score(X))\n",
    "    \n",
    "\n",
    "plt.plot(k_clusters, score,'b.-')"
   ]
  },
  {
   "cell_type": "code",
   "execution_count": 64,
   "id": "f47817ab",
   "metadata": {},
   "outputs": [],
   "source": [
    "from sklearn.cluster import KMeans\n",
    "\n",
    "k = 7\n",
    "kmeans = KMeans(n_clusters=k)\n",
    "kmeans.fit(X)\n",
    "\n",
    "y_pred = kmeans.predict(X)"
   ]
  },
  {
   "cell_type": "code",
   "execution_count": 65,
   "id": "85350483",
   "metadata": {},
   "outputs": [],
   "source": [
    "df2[\"clase\"]=y_pred"
   ]
  },
  {
   "cell_type": "code",
   "execution_count": 66,
   "id": "537b79c3",
   "metadata": {},
   "outputs": [
    {
     "name": "stdout",
     "output_type": "stream",
     "text": [
      "[3908, 1, 407, 38, 4, 2, 12]\n"
     ]
    }
   ],
   "source": [
    "conteo=[]\n",
    "aux=0\n",
    "for j in range (0,7):\n",
    "    for i in range (0,len(y_pred)):\n",
    "        if (y_pred[i]==j):\n",
    "            aux=aux+1\n",
    "    conteo.append(aux)\n",
    "    aux=0\n",
    "print(conteo)"
   ]
  },
  {
   "cell_type": "code",
   "execution_count": 67,
   "id": "59125c00",
   "metadata": {},
   "outputs": [],
   "source": [
    "km=[0,1,2,3,4,5,6]"
   ]
  },
  {
   "cell_type": "code",
   "execution_count": 68,
   "id": "b044103b",
   "metadata": {},
   "outputs": [
    {
     "data": {
      "image/png": "[encoded data removed]",
      "text/plain": [
       "<Figure size 576x396 with 1 Axes>"
      ]
     },
     "metadata": {},
     "output_type": "display_data"
    }
   ],
   "source": [
    "#No supervisado, no hay target\n",
    "sns.barplot(x = km, y = conteo);\n",
    "plt.xticks(rotation = 90);"
   ]
  },
  {
   "cell_type": "code",
   "execution_count": 71,
   "id": "0f6fe93e",
   "metadata": {
    "scrolled": true
   },
   "outputs": [
    {
     "data": {
      "text/plain": [
       "0    3908\n",
       "2     407\n",
       "Name: clase, dtype: int64"
      ]
     },
     "execution_count": 71,
     "metadata": {},
     "output_type": "execute_result"
    }
   ],
   "source": [
    "df3 = df2.loc[~((df2['clase']==5)|(df2['clase']==6)|(df2['clase']==1)|(df2['clase']==3)|(df2['clase']==4)),:]\n",
    "df3['clase'].value_counts()"
   ]
  },
  {
   "cell_type": "code",
   "execution_count": 72,
   "id": "a7259c86",
   "metadata": {
    "scrolled": true
   },
   "outputs": [
    {
     "data": {
      "text/html": [
       "<div>\n",
       "<style scoped>\n",
       "    .dataframe tbody tr th:only-of-type {\n",
       "        vertical-align: middle;\n",
       "    }\n",
       "\n",
       "    .dataframe tbody tr th {\n",
       "        vertical-align: top;\n",
       "    }\n",
       "\n",
       "    .dataframe thead th {\n",
       "        text-align: right;\n",
       "    }\n",
       "</style>\n",
       "<table border=\"1\" class=\"dataframe\">\n",
       "  <thead>\n",
       "    <tr style=\"text-align: right;\">\n",
       "      <th></th>\n",
       "      <th>CustomerID</th>\n",
       "      <th>ingresoxcliente</th>\n",
       "      <th>facturaxcliente</th>\n",
       "      <th>antiguedadcliente</th>\n",
       "      <th>Frecuencia</th>\n",
       "      <th>clase</th>\n",
       "    </tr>\n",
       "  </thead>\n",
       "  <tbody>\n",
       "    <tr>\n",
       "      <th>2706</th>\n",
       "      <td>16011.0</td>\n",
       "      <td>3352.96</td>\n",
       "      <td>210</td>\n",
       "      <td>7</td>\n",
       "      <td>0.033333</td>\n",
       "      <td>0</td>\n",
       "    </tr>\n",
       "    <tr>\n",
       "      <th>244</th>\n",
       "      <td>12643.0</td>\n",
       "      <td>3344.64</td>\n",
       "      <td>24</td>\n",
       "      <td>127</td>\n",
       "      <td>5.291667</td>\n",
       "      <td>0</td>\n",
       "    </tr>\n",
       "    <tr>\n",
       "      <th>518</th>\n",
       "      <td>13015.0</td>\n",
       "      <td>3339.64</td>\n",
       "      <td>175</td>\n",
       "      <td>52</td>\n",
       "      <td>0.297143</td>\n",
       "      <td>0</td>\n",
       "    </tr>\n",
       "    <tr>\n",
       "      <th>2040</th>\n",
       "      <td>15113.0</td>\n",
       "      <td>3339.51</td>\n",
       "      <td>98</td>\n",
       "      <td>9</td>\n",
       "      <td>0.091837</td>\n",
       "      <td>0</td>\n",
       "    </tr>\n",
       "    <tr>\n",
       "      <th>615</th>\n",
       "      <td>13148.0</td>\n",
       "      <td>3324.62</td>\n",
       "      <td>340</td>\n",
       "      <td>28</td>\n",
       "      <td>0.082353</td>\n",
       "      <td>0</td>\n",
       "    </tr>\n",
       "    <tr>\n",
       "      <th>...</th>\n",
       "      <td>...</td>\n",
       "      <td>...</td>\n",
       "      <td>...</td>\n",
       "      <td>...</td>\n",
       "      <td>...</td>\n",
       "      <td>...</td>\n",
       "    </tr>\n",
       "    <tr>\n",
       "      <th>125</th>\n",
       "      <td>12503.0</td>\n",
       "      <td>-1126.00</td>\n",
       "      <td>1</td>\n",
       "      <td>337</td>\n",
       "      <td>337.000000</td>\n",
       "      <td>0</td>\n",
       "    </tr>\n",
       "    <tr>\n",
       "      <th>3870</th>\n",
       "      <td>17603.0</td>\n",
       "      <td>-1165.30</td>\n",
       "      <td>15</td>\n",
       "      <td>49</td>\n",
       "      <td>3.266667</td>\n",
       "      <td>0</td>\n",
       "    </tr>\n",
       "    <tr>\n",
       "      <th>1384</th>\n",
       "      <td>14213.0</td>\n",
       "      <td>-1192.20</td>\n",
       "      <td>5</td>\n",
       "      <td>371</td>\n",
       "      <td>74.200000</td>\n",
       "      <td>0</td>\n",
       "    </tr>\n",
       "    <tr>\n",
       "      <th>2236</th>\n",
       "      <td>15369.0</td>\n",
       "      <td>-1592.49</td>\n",
       "      <td>1</td>\n",
       "      <td>143</td>\n",
       "      <td>143.000000</td>\n",
       "      <td>0</td>\n",
       "    </tr>\n",
       "    <tr>\n",
       "      <th>3756</th>\n",
       "      <td>17448.0</td>\n",
       "      <td>-4287.63</td>\n",
       "      <td>1</td>\n",
       "      <td>144</td>\n",
       "      <td>144.000000</td>\n",
       "      <td>0</td>\n",
       "    </tr>\n",
       "  </tbody>\n",
       "</table>\n",
       "<p>3908 rows × 6 columns</p>\n",
       "</div>"
      ],
      "text/plain": [
       "      CustomerID  ingresoxcliente  facturaxcliente  antiguedadcliente  \\\n",
       "2706     16011.0          3352.96              210                  7   \n",
       "244      12643.0          3344.64               24                127   \n",
       "518      13015.0          3339.64              175                 52   \n",
       "2040     15113.0          3339.51               98                  9   \n",
       "615      13148.0          3324.62              340                 28   \n",
       "...          ...              ...              ...                ...   \n",
       "125      12503.0         -1126.00                1                337   \n",
       "3870     17603.0         -1165.30               15                 49   \n",
       "1384     14213.0         -1192.20                5                371   \n",
       "2236     15369.0         -1592.49                1                143   \n",
       "3756     17448.0         -4287.63                1                144   \n",
       "\n",
       "      Frecuencia  clase  \n",
       "2706    0.033333      0  \n",
       "244     5.291667      0  \n",
       "518     0.297143      0  \n",
       "2040    0.091837      0  \n",
       "615     0.082353      0  \n",
       "...          ...    ...  \n",
       "125   337.000000      0  \n",
       "3870    3.266667      0  \n",
       "1384   74.200000      0  \n",
       "2236  143.000000      0  \n",
       "3756  144.000000      0  \n",
       "\n",
       "[3908 rows x 6 columns]"
      ]
     },
     "execution_count": 72,
     "metadata": {},
     "output_type": "execute_result"
    }
   ],
   "source": [
    "filtro_0=df3[\"clase\"]==0\n",
    "filtro_0=df3[filtro_0]\n",
    "filtro_0.sort_values(\"ingresoxcliente\",ascending=False)"
   ]
  },
  {
   "cell_type": "code",
   "execution_count": 73,
   "id": "e284c3bc",
   "metadata": {
    "scrolled": true
   },
   "outputs": [
    {
     "data": {
      "text/html": [
       "<div>\n",
       "<style scoped>\n",
       "    .dataframe tbody tr th:only-of-type {\n",
       "        vertical-align: middle;\n",
       "    }\n",
       "\n",
       "    .dataframe tbody tr th {\n",
       "        vertical-align: top;\n",
       "    }\n",
       "\n",
       "    .dataframe thead th {\n",
       "        text-align: right;\n",
       "    }\n",
       "</style>\n",
       "<table border=\"1\" class=\"dataframe\">\n",
       "  <thead>\n",
       "    <tr style=\"text-align: right;\">\n",
       "      <th></th>\n",
       "      <th>CustomerID</th>\n",
       "      <th>ingresoxcliente</th>\n",
       "      <th>facturaxcliente</th>\n",
       "      <th>antiguedadcliente</th>\n",
       "      <th>Frecuencia</th>\n",
       "      <th>clase</th>\n",
       "    </tr>\n",
       "  </thead>\n",
       "  <tbody>\n",
       "    <tr>\n",
       "      <th>1861</th>\n",
       "      <td>14866.0</td>\n",
       "      <td>14197.45</td>\n",
       "      <td>103</td>\n",
       "      <td>10</td>\n",
       "      <td>0.097087</td>\n",
       "      <td>2</td>\n",
       "    </tr>\n",
       "    <tr>\n",
       "      <th>3215</th>\n",
       "      <td>16705.0</td>\n",
       "      <td>13946.13</td>\n",
       "      <td>284</td>\n",
       "      <td>0</td>\n",
       "      <td>0.000000</td>\n",
       "      <td>2</td>\n",
       "    </tr>\n",
       "    <tr>\n",
       "      <th>276</th>\n",
       "      <td>12681.0</td>\n",
       "      <td>13677.59</td>\n",
       "      <td>646</td>\n",
       "      <td>14</td>\n",
       "      <td>0.021672</td>\n",
       "      <td>2</td>\n",
       "    </tr>\n",
       "    <tr>\n",
       "      <th>226</th>\n",
       "      <td>12621.0</td>\n",
       "      <td>13612.07</td>\n",
       "      <td>474</td>\n",
       "      <td>1</td>\n",
       "      <td>0.002110</td>\n",
       "      <td>2</td>\n",
       "    </tr>\n",
       "    <tr>\n",
       "      <th>71</th>\n",
       "      <td>12433.0</td>\n",
       "      <td>13375.87</td>\n",
       "      <td>420</td>\n",
       "      <td>0</td>\n",
       "      <td>0.000000</td>\n",
       "      <td>2</td>\n",
       "    </tr>\n",
       "    <tr>\n",
       "      <th>...</th>\n",
       "      <td>...</td>\n",
       "      <td>...</td>\n",
       "      <td>...</td>\n",
       "      <td>...</td>\n",
       "      <td>...</td>\n",
       "      <td>...</td>\n",
       "    </tr>\n",
       "    <tr>\n",
       "      <th>651</th>\n",
       "      <td>13198.0</td>\n",
       "      <td>3384.09</td>\n",
       "      <td>229</td>\n",
       "      <td>9</td>\n",
       "      <td>0.039301</td>\n",
       "      <td>2</td>\n",
       "    </tr>\n",
       "    <tr>\n",
       "      <th>2130</th>\n",
       "      <td>15228.0</td>\n",
       "      <td>3376.96</td>\n",
       "      <td>126</td>\n",
       "      <td>65</td>\n",
       "      <td>0.515873</td>\n",
       "      <td>2</td>\n",
       "    </tr>\n",
       "    <tr>\n",
       "      <th>3965</th>\n",
       "      <td>17725.0</td>\n",
       "      <td>3371.13</td>\n",
       "      <td>198</td>\n",
       "      <td>15</td>\n",
       "      <td>0.075758</td>\n",
       "      <td>2</td>\n",
       "    </tr>\n",
       "    <tr>\n",
       "      <th>517</th>\n",
       "      <td>13014.0</td>\n",
       "      <td>3365.43</td>\n",
       "      <td>124</td>\n",
       "      <td>2</td>\n",
       "      <td>0.016129</td>\n",
       "      <td>2</td>\n",
       "    </tr>\n",
       "    <tr>\n",
       "      <th>2967</th>\n",
       "      <td>16360.0</td>\n",
       "      <td>3349.57</td>\n",
       "      <td>645</td>\n",
       "      <td>4</td>\n",
       "      <td>0.006202</td>\n",
       "      <td>2</td>\n",
       "    </tr>\n",
       "  </tbody>\n",
       "</table>\n",
       "<p>407 rows × 6 columns</p>\n",
       "</div>"
      ],
      "text/plain": [
       "      CustomerID  ingresoxcliente  facturaxcliente  antiguedadcliente  \\\n",
       "1861     14866.0         14197.45              103                 10   \n",
       "3215     16705.0         13946.13              284                  0   \n",
       "276      12681.0         13677.59              646                 14   \n",
       "226      12621.0         13612.07              474                  1   \n",
       "71       12433.0         13375.87              420                  0   \n",
       "...          ...              ...              ...                ...   \n",
       "651      13198.0          3384.09              229                  9   \n",
       "2130     15228.0          3376.96              126                 65   \n",
       "3965     17725.0          3371.13              198                 15   \n",
       "517      13014.0          3365.43              124                  2   \n",
       "2967     16360.0          3349.57              645                  4   \n",
       "\n",
       "      Frecuencia  clase  \n",
       "1861    0.097087      2  \n",
       "3215    0.000000      2  \n",
       "276     0.021672      2  \n",
       "226     0.002110      2  \n",
       "71      0.000000      2  \n",
       "...          ...    ...  \n",
       "651     0.039301      2  \n",
       "2130    0.515873      2  \n",
       "3965    0.075758      2  \n",
       "517     0.016129      2  \n",
       "2967    0.006202      2  \n",
       "\n",
       "[407 rows x 6 columns]"
      ]
     },
     "execution_count": 73,
     "metadata": {},
     "output_type": "execute_result"
    }
   ],
   "source": [
    "filtro_4=df3[\"clase\"]==2\n",
    "filtro_4=df3[filtro_4]\n",
    "filtro_4.sort_values(\"ingresoxcliente\",ascending=False)"
   ]
  },
  {
   "cell_type": "code",
   "execution_count": 74,
   "id": "c1f2dce0",
   "metadata": {},
   "outputs": [],
   "source": [
    "df2.to_csv(\"Proyecto2_final.csv\",index=False)"
   ]
  },
  {
   "cell_type": "markdown",
   "id": "265c2654",
   "metadata": {},
   "source": [
    "# Modelos"
   ]
  },
  {
   "cell_type": "markdown",
   "id": "92cbe576",
   "metadata": {},
   "source": [
    "* Preparando data para aplicar modelos"
   ]
  },
  {
   "cell_type": "code",
   "execution_count": null,
   "id": "5cbce03f",
   "metadata": {},
   "outputs": [],
   "source": [
    "df3=df3.replace({'clase': {4: 1}})"
   ]
  },
  {
   "cell_type": "code",
   "execution_count": null,
   "id": "0c1a4a1f",
   "metadata": {},
   "outputs": [],
   "source": [
    "df3.head(3)"
   ]
  },
  {
   "cell_type": "code",
   "execution_count": null,
   "id": "51096660",
   "metadata": {},
   "outputs": [],
   "source": [
    "#Desbalanceo de clase, aplicar metrica Recall\n",
    "df3[\"clase\"].value_counts()"
   ]
  },
  {
   "cell_type": "code",
   "execution_count": null,
   "id": "1aad6540",
   "metadata": {},
   "outputs": [],
   "source": [
    "X=df3.drop(columns=[\"CustomerID\",\"clase\"])\n",
    "y=df3[\"clase\"]"
   ]
  },
  {
   "cell_type": "code",
   "execution_count": null,
   "id": "1bd23e59",
   "metadata": {},
   "outputs": [],
   "source": [
    "X_train, X_val, y_train, y_val = train_test_split(X, y,test_size=0.3)\n",
    "X_val, X_test, y_val, y_test = train_test_split(X_val, y_val,test_size=0.5)"
   ]
  },
  {
   "cell_type": "code",
   "execution_count": null,
   "id": "9e0140d2",
   "metadata": {},
   "outputs": [],
   "source": [
    "scaler = StandardScaler()\n",
    "scaler.fit(X_train)\n",
    "X_train = scaler.transform(X_train)\n",
    "X_test = scaler.transform(X_test)\n",
    "X_val =scaler.transform(X_val)"
   ]
  },
  {
   "cell_type": "markdown",
   "id": "d1c19f92",
   "metadata": {},
   "source": [
    "* KNN"
   ]
  },
  {
   "cell_type": "code",
   "execution_count": null,
   "id": "728f5619",
   "metadata": {},
   "outputs": [],
   "source": [
    "knn = KNeighborsClassifier(n_neighbors=2)\n",
    "knn.fit(X_train, y_train)\n",
    "validacion = knn.predict(X_test)\n",
    "recall=recall_score(y_test, validacion, average=\"macro\")"
   ]
  },
  {
   "cell_type": "code",
   "execution_count": null,
   "id": "de116499",
   "metadata": {},
   "outputs": [],
   "source": [
    "k_range = list(range(1, 5))\n",
    "param_grid = dict(n_neighbors=k_range)\n",
    "  \n",
    "# defining parameter range\n",
    "grid = GridSearchCV(knn, param_grid, cv=2,scoring=\"recall\", return_train_score=False,verbose=1)\n",
    "grid.fit(X_train, y_train)"
   ]
  },
  {
   "cell_type": "code",
   "execution_count": null,
   "id": "c6d35700",
   "metadata": {},
   "outputs": [],
   "source": [
    "cvres = grid.cv_results_\n",
    "print(cvres['mean_test_score'], cvres['params'])"
   ]
  },
  {
   "cell_type": "code",
   "execution_count": null,
   "id": "dd932b6e",
   "metadata": {},
   "outputs": [],
   "source": [
    "knn = KNeighborsClassifier(n_neighbors=3)\n",
    "knn.fit(X_train, y_train) \n",
    "validacion = knn.predict(X_val)\n",
    "recall=recall_score(y_val, validacion)\n",
    "print(recall)"
   ]
  },
  {
   "cell_type": "code",
   "execution_count": null,
   "id": "c71565d4",
   "metadata": {},
   "outputs": [],
   "source": [
    "predictions = knn.predict(X_test)\n",
    "print(classification_report(y_test, predictions))"
   ]
  },
  {
   "cell_type": "code",
   "execution_count": null,
   "id": "db78d198",
   "metadata": {},
   "outputs": [],
   "source": [
    "def plotCMa(cma,labels):\n",
    "    cma = cma/cma.sum(axis=1).reshape(-1,1)\n",
    "    f= plt.figure(figsize=(16, 10))\n",
    "    plt.matshow(cma, fignum=f.number)\n",
    "    plt.clim(0, 1)\n",
    "    cb = plt.colorbar()\n",
    "    cb.ax.tick_params(labelsize=14)\n",
    "    plt.title(\"Confusion matrix\", fontsize=20)\n",
    "    plt.xticks(range(len(labels)), [f\"{label} (Etiqueta)\" for label in labels], fontsize=16)\n",
    "    plt.yticks(range(len(labels)), [f\"{label} (Real)\" for label in labels], fontsize=16)\n",
    "    ax = plt.gca()\n",
    "\n",
    "    for i in range(cma.shape[0]):\n",
    "        for j in range(cma.shape[1]):\n",
    "            value = cma[i][j]\n",
    "            ax.text(j,i,\"{0:.4f}\".format(value),ha=\"center\", va=\"center\", color=\"b\", fontsize=16)\n",
    "\n",
    "    plt.show()"
   ]
  },
  {
   "cell_type": "code",
   "execution_count": null,
   "id": "f4f3398b",
   "metadata": {},
   "outputs": [],
   "source": [
    "cm = metrics.confusion_matrix(y_test,predictions)\n",
    "plotCMa(cm,['Clase 0','Clase 4'])"
   ]
  },
  {
   "cell_type": "markdown",
   "id": "d7871f21",
   "metadata": {},
   "source": [
    "* Regresion logistica"
   ]
  },
  {
   "cell_type": "code",
   "execution_count": null,
   "id": "c2c97a6b",
   "metadata": {},
   "outputs": [],
   "source": [
    "log_reg = LogisticRegression(penalty='none') #evita el overfiting\n",
    "log_reg.fit(X_train, y_train)\n",
    "validacion = log_reg.predict(X_val)\n",
    "recall=recall_score(y_val, validacion, average=\"macro\")"
   ]
  },
  {
   "cell_type": "code",
   "execution_count": null,
   "id": "ae11a291",
   "metadata": {
    "scrolled": true
   },
   "outputs": [],
   "source": [
    "param_grid = [\n",
    "    {'C':[1,0.9,0.8],\n",
    "    'class_weight':[{0: 0.2, 1: 0.8},{0: 0.17, 1: 0.83},{0: 0.1, 1: 0.9},{0: 0.05, 1: 0.95},{0: 0.01, 1: 0.99},{0: 0.25, 1: 0.75},{0: 0.4, 1: 0.6}],\n",
    "    'penalty':['none', 'l1', 'l2','elasticnet'],\n",
    "    'solver':['newton-cg', 'lbfgs', 'liblinear','saga'],\n",
    "    'l1_ratio':[0,0.1]}\n",
    "]\n",
    "\n",
    "\n",
    "grid_search = GridSearchCV(log_reg, param_grid,cv=2,\n",
    "                          return_train_score=True,scoring='recall',verbose=1)\n",
    "\n",
    "grid_search.fit(X_train, y_train)"
   ]
  },
  {
   "cell_type": "code",
   "execution_count": null,
   "id": "1a51cb22",
   "metadata": {},
   "outputs": [],
   "source": [
    "print('Mejores hiperparametros: %s' % grid_search.best_params_)"
   ]
  },
  {
   "cell_type": "code",
   "execution_count": null,
   "id": "93d24d9a",
   "metadata": {},
   "outputs": [],
   "source": [
    "print('Best Score: %s' % grid_search.best_score_)"
   ]
  },
  {
   "cell_type": "code",
   "execution_count": null,
   "id": "57343361",
   "metadata": {},
   "outputs": [],
   "source": [
    "log_reg = LogisticRegression(C=1,penalty='none',class_weight={0: 0.02, 1: 0.8},solver='newton-cg',l1_ratio=0)\n",
    "log_reg.fit(X_train, y_train)\n",
    "validacion = log_reg.predict(X_val)\n",
    "recall=recall_score(y_val, validacion, average=\"macro\")"
   ]
  },
  {
   "cell_type": "code",
   "execution_count": null,
   "id": "0b7af24f",
   "metadata": {},
   "outputs": [],
   "source": [
    "predictions = log_reg.predict(X_test)\n",
    "print(classification_report(y_test, predictions))"
   ]
  },
  {
   "cell_type": "code",
   "execution_count": null,
   "id": "dca11da1",
   "metadata": {},
   "outputs": [],
   "source": [
    "from sklearn.metrics import roc_auc_score, plot_roc_curve\n",
    "print(f'Training AUC: {roc_auc_score(y_train, log_reg.predict_proba(X_train)[:,1])}')\n",
    "print(f'Testing AUC: {roc_auc_score(y_test, log_reg.predict_proba(X_test)[:,1])}')"
   ]
  },
  {
   "cell_type": "code",
   "execution_count": null,
   "id": "58fb5293",
   "metadata": {},
   "outputs": [],
   "source": [
    "# Visualizar la curva ROC\n",
    "plot_roc_curve(log_reg, X_train, y_train)\n",
    "plt.plot([0, 1], [0, 1], ls = '--', label = 'Baseline (AUC = 0.5)')\n",
    "plt.legend();"
   ]
  },
  {
   "cell_type": "markdown",
   "id": "2d0d9053",
   "metadata": {},
   "source": [
    "* Random Forest "
   ]
  },
  {
   "cell_type": "code",
   "execution_count": null,
   "id": "6fc53e75",
   "metadata": {},
   "outputs": [],
   "source": [
    "rndf_clf = RandomForestClassifier(n_estimators=2)\n",
    "rndf_clf.fit(X_train, y_train)\n",
    "validacion = rndf_clf.predict(X_val)\n",
    "recall=recall_score(y_val, validacion, average=\"macro\")"
   ]
  },
  {
   "cell_type": "code",
   "execution_count": null,
   "id": "35b5f3f6",
   "metadata": {},
   "outputs": [],
   "source": [
    "param_grid = [{'n_estimators':[10,50,100,150,200,250]}]\n",
    "\n",
    "grid_search = GridSearchCV(rndf_clf, param_grid, cv=2,\n",
    "                          return_train_score=True)\n",
    "\n",
    "grid_search.fit(X_train, y_train)\n"
   ]
  },
  {
   "cell_type": "code",
   "execution_count": null,
   "id": "e9bc91d6",
   "metadata": {},
   "outputs": [],
   "source": [
    "cvres = grid_search.cv_results_\n",
    "print(cvres['mean_test_score'], cvres['params'])"
   ]
  },
  {
   "cell_type": "code",
   "execution_count": null,
   "id": "31f329d9",
   "metadata": {},
   "outputs": [],
   "source": [
    "rndf_clf = RandomForestClassifier(n_estimators=10)\n",
    "rndf_clf.fit(X_train, y_train)\n",
    "validacion = rndf_clf.predict(X_val)\n",
    "recall=recall_score(y_val, validacion, average=\"macro\")\n"
   ]
  },
  {
   "cell_type": "code",
   "execution_count": null,
   "id": "55493471",
   "metadata": {
    "scrolled": true
   },
   "outputs": [],
   "source": [
    "predictions=rndf_clf.predict(X_test)\n",
    "print(classification_report(y_test, predictions))\n"
   ]
  }
 ],
 "metadata": {
  "kernelspec": {
   "display_name": "Python 3",
   "language": "python",
   "name": "python3"
  },
  "language_info": {
   "codemirror_mode": {
    "name": "ipython",
    "version": 3
   },
   "file_extension": ".py",
   "mimetype": "text/x-python",
   "name": "python",
   "nbconvert_exporter": "python",
   "pygments_lexer": "ipython3",
   "version": "3.8.8"
  }
 },
 "nbformat": 4,
 "nbformat_minor": 5
}
